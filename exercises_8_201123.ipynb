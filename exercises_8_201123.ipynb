{
 "cells": [
  {
   "cell_type": "markdown",
   "metadata": {},
   "source": [
    "# Exercises 20-11-2023"
   ]
  },
  {
   "cell_type": "markdown",
   "metadata": {},
   "source": [
    "## Exercise 8.1\n",
    "Simulating an experiment with a “Toy Experiment”\n",
    "Sequences of pseudo-random numbers are often used to simulate the statistical behavior of a measurement experiment or to perform numerical integrations.\n",
    "\n",
    "According to the frequentist paradigm of statistics, uncertainties of a measurement are derived from its probability density distribution, assuming that the experiment used for that measurement is repeated a large number of times.\n",
    "\n",
    "Operationally, the experiment leading to the final measurement result is unique, so certain statistical behaviors can only be simulated.\n",
    "\n",
    "The simulation of a measurement experiment is called a toy experiment."
   ]
  },
  {
   "cell_type": "markdown",
   "metadata": {},
   "source": [
    "### Exercise 8.1.1\n",
    "To determine the precision on the mean of a sample, it’s necessary to generate the sample many times to observe the distribution of mean values:"
   ]
  },
  {
   "cell_type": "code",
   "execution_count": null,
   "metadata": {},
   "outputs": [],
   "source": []
  }
 ],
 "metadata": {
  "language_info": {
   "name": "python"
  }
 },
 "nbformat": 4,
 "nbformat_minor": 2
}
