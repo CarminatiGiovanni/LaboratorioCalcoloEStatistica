{
  "cells": [
    {
      "attachments": {},
      "cell_type": "markdown",
      "metadata": {
        "id": "lWtEQsG9mDrM"
      },
      "source": [
        "# Exercises lecture 3 - 16/10/2023"
      ]
    },
    {
      "attachments": {},
      "cell_type": "markdown",
      "metadata": {
        "id": "Qk6ekB21mHrc"
      },
      "source": [
        "## Exercise 3.1\n",
        "Create a one-dimensional histogram filled with 5 values and save the histogram image to a png file"
      ]
    },
    {
      "cell_type": "code",
      "execution_count": 2,
      "metadata": {
        "colab": {
          "base_uri": "https://localhost:8080/",
          "height": 430
        },
        "id": "dlX3SgHImA5P",
        "outputId": "f9fb2fe4-2837-48dc-f5b6-2a355463a2b9"
      },
      "outputs": [
        {
          "data": {
            "image/png": "[encoded data removed]",
            "text/plain": [
              "<Figure size 640x480 with 1 Axes>"
            ]
          },
          "metadata": {},
          "output_type": "display_data"
        }
      ],
      "source": [
        "import matplotlib.pyplot as plt\n",
        "import numpy as np\n",
        "\n",
        "bins = np.linspace(0,5,5)\n",
        "elements = np.random.randint(0,5,100)\n",
        "\n",
        "plt.hist(elements, bins = bins)\n",
        "plt.show()"
      ]
    },
    {
      "attachments": {},
      "cell_type": "markdown",
      "metadata": {
        "id": "FX9_Eq2ampT5"
      },
      "source": [
        "## Exercise 3.2\n",
        "Read the text file eventi_unif.txt:\n",
        "\n",
        "    Print the first 10 positive elements to the screen.\n",
        "\n",
        "    Count the number of events contained in the file.\n",
        "\n",
        "    Determine the minimum and maximum values among the numbers saved in the file.\n"
      ]
    },
    {
      "cell_type": "code",
      "execution_count": 3,
      "metadata": {
        "colab": {
          "base_uri": "https://localhost:8080/",
          "height": 75
        },
        "id": "8yV576ywmzmw",
        "outputId": "59ea31f4-c6db-4ee1-8874-2b97badb0274"
      },
      "outputs": [
        {
          "ename": "ModuleNotFoundError",
          "evalue": "No module named 'google'",
          "output_type": "error",
          "traceback": [
            "\u001b[1;31m---------------------------------------------------------------------------\u001b[0m",
            "\u001b[1;31mModuleNotFoundError\u001b[0m                       Traceback (most recent call last)",
            "Cell \u001b[1;32mIn[3], line 1\u001b[0m\n\u001b[1;32m----> 1\u001b[0m \u001b[39mfrom\u001b[39;00m \u001b[39mgoogle\u001b[39;00m\u001b[39m.\u001b[39;00m\u001b[39mcolab\u001b[39;00m \u001b[39mimport\u001b[39;00m files\n\u001b[0;32m      2\u001b[0m uploaded \u001b[39m=\u001b[39m files\u001b[39m.\u001b[39mupload()\n",
            "\u001b[1;31mModuleNotFoundError\u001b[0m: No module named 'google'"
          ]
        }
      ],
      "source": [
        "from google.colab import files\n",
        "uploaded = files.upload()\n"
      ]
    },
    {
      "cell_type": "code",
      "execution_count": null,
      "metadata": {
        "colab": {
          "base_uri": "https://localhost:8080/"
        },
        "id": "Tj-8zaxont5l",
        "outputId": "1a1ec9ab-6c80-4b2b-8cda-8c73ea8e5a72"
      },
      "outputs": [
        {
          "name": "stdout",
          "output_type": "stream",
          "text": [
            "1.74343\n",
            "\n",
            "0.881333\n",
            "\n",
            "2.94428\n",
            "\n",
            "2.73867\n",
            "\n",
            "3.56551\n",
            "\n",
            "0.547841\n",
            "\n",
            "3.55342\n",
            "\n",
            "6.35506\n",
            "\n",
            "2.54804\n",
            "\n",
            "4.95112\n",
            "\n"
          ]
        }
      ],
      "source": [
        "with open('eventi_unif.txt','r') as datas:\n",
        "  positive_counter = 0\n",
        "  for d in datas:\n",
        "    if float(d) > 0:\n",
        "      positive_counter+=1\n",
        "      print(d)\n",
        "    if positive_counter == 10:\n",
        "      break\n"
      ]
    },
    {
      "cell_type": "code",
      "execution_count": null,
      "metadata": {
        "colab": {
          "base_uri": "https://localhost:8080/"
        },
        "id": "3UFSi-J6oNO-",
        "outputId": "887fc114-1ba4-47ff-c602-dbb7a273334e"
      },
      "outputs": [
        {
          "name": "stdout",
          "output_type": "stream",
          "text": [
            "10000\n"
          ]
        }
      ],
      "source": [
        "with open('eventi_unif.txt','r') as datas:\n",
        "  print(len(datas.readlines()))"
      ]
    },
    {
      "cell_type": "code",
      "execution_count": null,
      "metadata": {
        "colab": {
          "base_uri": "https://localhost:8080/"
        },
        "id": "aSIDEYaFpAmu",
        "outputId": "dddacf60-bc12-4d67-c58a-88c1ca9f1cf6"
      },
      "outputs": [
        {
          "name": "stdout",
          "output_type": "stream",
          "text": [
            "max:  6.99967  min:  -3.99968\n"
          ]
        }
      ],
      "source": [
        "with open('eventi_unif.txt','r') as datas:\n",
        "  data1 = np.array([np.float64(x) for x in datas.readlines()])\n",
        "  print('max: ',max(data1),' min: ',min(data1))"
      ]
    },
    {
      "attachments": {},
      "cell_type": "markdown",
      "metadata": {
        "id": "iMngjyL6pXQT"
      },
      "source": [
        "## Exercise 3.3\n",
        "Read the text file eventi_gauss.txt:\n",
        "\n",
        "    Fill a histogram with the first N numbers contained in the file, where N is a command-line parameter during program execution.\n",
        "\n",
        "    Choose the histogram’s definition range and its bin number based on the numbers to be represented"
      ]
    },
    {
      "cell_type": "code",
      "execution_count": null,
      "metadata": {
        "colab": {
          "base_uri": "https://localhost:8080/",
          "height": 75
        },
        "id": "KxObPdvYphks",
        "outputId": "dd13a34c-d522-448e-aa1a-6430fd93d2d9"
      },
      "outputs": [
        {
          "data": {
            "text/html": [
              "\n",
              "     <input type=\"file\" id=\"files-0f6bd323-ec10-49bf-833d-c131a3142d67\" name=\"files[]\" multiple disabled\n",
              "        style=\"border:none\" />\n",
              "     <output id=\"result-0f6bd323-ec10-49bf-833d-c131a3142d67\">\n",
              "      Upload widget is only available when the cell has been executed in the\n",
              "      current browser session. Please rerun this cell to enable.\n",
              "      </output>\n",
              "      <script>// Copyright 2017 Google LLC\n",
              "//\n",
              "// Licensed under the Apache License, Version 2.0 (the \"License\");\n",
              "// you may not use this file except in compliance with the License.\n",
              "// You may obtain a copy of the License at\n",
              "//\n",
              "//      http://www.apache.org/licenses/LICENSE-2.0\n",
              "//\n",
              "// Unless required by applicable law or agreed to in writing, software\n",
              "// distributed under the License is distributed on an \"AS IS\" BASIS,\n",
              "// WITHOUT WARRANTIES OR CONDITIONS OF ANY KIND, either express or implied.\n",
              "// See the License for the specific language governing permissions and\n",
              "// limitations under the License.\n",
              "\n",
              "/**\n",
              " * @fileoverview Helpers for google.colab Python module.\n",
              " */\n",
              "(function(scope) {\n",
              "function span(text, styleAttributes = {}) {\n",
              "  const element = document.createElement('span');\n",
              "  element.textContent = text;\n",
              "  for (const key of Object.keys(styleAttributes)) {\n",
              "    element.style[key] = styleAttributes[key];\n",
              "  }\n",
              "  return element;\n",
              "}\n",
              "\n",
              "// Max number of bytes which will be uploaded at a time.\n",
              "const MAX_PAYLOAD_SIZE = 100 * 1024;\n",
              "\n",
              "function _uploadFiles(inputId, outputId) {\n",
              "  const steps = uploadFilesStep(inputId, outputId);\n",
              "  const outputElement = document.getElementById(outputId);\n",
              "  // Cache steps on the outputElement to make it available for the next call\n",
              "  // to uploadFilesContinue from Python.\n",
              "  outputElement.steps = steps;\n",
              "\n",
              "  return _uploadFilesContinue(outputId);\n",
              "}\n",
              "\n",
              "// This is roughly an async generator (not supported in the browser yet),\n",
              "// where there are multiple asynchronous steps and the Python side is going\n",
              "// to poll for completion of each step.\n",
              "// This uses a Promise to block the python side on completion of each step,\n",
              "// then passes the result of the previous step as the input to the next step.\n",
              "function _uploadFilesContinue(outputId) {\n",
              "  const outputElement = document.getElementById(outputId);\n",
              "  const steps = outputElement.steps;\n",
              "\n",
              "  const next = steps.next(outputElement.lastPromiseValue);\n",
              "  return Promise.resolve(next.value.promise).then((value) => {\n",
              "    // Cache the last promise value to make it available to the next\n",
              "    // step of the generator.\n",
              "    outputElement.lastPromiseValue = value;\n",
              "    return next.value.response;\n",
              "  });\n",
              "}\n",
              "\n",
              "/**\n",
              " * Generator function which is called between each async step of the upload\n",
              " * process.\n",
              " * @param {string} inputId Element ID of the input file picker element.\n",
              " * @param {string} outputId Element ID of the output display.\n",
              " * @return {!Iterable<!Object>} Iterable of next steps.\n",
              " */\n",
              "function* uploadFilesStep(inputId, outputId) {\n",
              "  const inputElement = document.getElementById(inputId);\n",
              "  inputElement.disabled = false;\n",
              "\n",
              "  const outputElement = document.getElementById(outputId);\n",
              "  outputElement.innerHTML = '';\n",
              "\n",
              "  const pickedPromise = new Promise((resolve) => {\n",
              "    inputElement.addEventListener('change', (e) => {\n",
              "      resolve(e.target.files);\n",
              "    });\n",
              "  });\n",
              "\n",
              "  const cancel = document.createElement('button');\n",
              "  inputElement.parentElement.appendChild(cancel);\n",
              "  cancel.textContent = 'Cancel upload';\n",
              "  const cancelPromise = new Promise((resolve) => {\n",
              "    cancel.onclick = () => {\n",
              "      resolve(null);\n",
              "    };\n",
              "  });\n",
              "\n",
              "  // Wait for the user to pick the files.\n",
              "  const files = yield {\n",
              "    promise: Promise.race([pickedPromise, cancelPromise]),\n",
              "    response: {\n",
              "      action: 'starting',\n",
              "    }\n",
              "  };\n",
              "\n",
              "  cancel.remove();\n",
              "\n",
              "  // Disable the input element since further picks are not allowed.\n",
              "  inputElement.disabled = true;\n",
              "\n",
              "  if (!files) {\n",
              "    return {\n",
              "      response: {\n",
              "        action: 'complete',\n",
              "      }\n",
              "    };\n",
              "  }\n",
              "\n",
              "  for (const file of files) {\n",
              "    const li = document.createElement('li');\n",
              "    li.append(span(file.name, {fontWeight: 'bold'}));\n",
              "    li.append(span(\n",
              "        `(${file.type || 'n/a'}) - ${file.size} bytes, ` +\n",
              "        `last modified: ${\n",
              "            file.lastModifiedDate ? file.lastModifiedDate.toLocaleDateString() :\n",
              "                                    'n/a'} - `));\n",
              "    const percent = span('0% done');\n",
              "    li.appendChild(percent);\n",
              "\n",
              "    outputElement.appendChild(li);\n",
              "\n",
              "    const fileDataPromise = new Promise((resolve) => {\n",
              "      const reader = new FileReader();\n",
              "      reader.onload = (e) => {\n",
              "        resolve(e.target.result);\n",
              "      };\n",
              "      reader.readAsArrayBuffer(file);\n",
              "    });\n",
              "    // Wait for the data to be ready.\n",
              "    let fileData = yield {\n",
              "      promise: fileDataPromise,\n",
              "      response: {\n",
              "        action: 'continue',\n",
              "      }\n",
              "    };\n",
              "\n",
              "    // Use a chunked sending to avoid message size limits. See b/62115660.\n",
              "    let position = 0;\n",
              "    do {\n",
              "      const length = Math.min(fileData.byteLength - position, MAX_PAYLOAD_SIZE);\n",
              "      const chunk = new Uint8Array(fileData, position, length);\n",
              "      position += length;\n",
              "\n",
              "      const base64 = btoa(String.fromCharCode.apply(null, chunk));\n",
              "      yield {\n",
              "        response: {\n",
              "          action: 'append',\n",
              "          file: file.name,\n",
              "          data: base64,\n",
              "        },\n",
              "      };\n",
              "\n",
              "      let percentDone = fileData.byteLength === 0 ?\n",
              "          100 :\n",
              "          Math.round((position / fileData.byteLength) * 100);\n",
              "      percent.textContent = `${percentDone}% done`;\n",
              "\n",
              "    } while (position < fileData.byteLength);\n",
              "  }\n",
              "\n",
              "  // All done.\n",
              "  yield {\n",
              "    response: {\n",
              "      action: 'complete',\n",
              "    }\n",
              "  };\n",
              "}\n",
              "\n",
              "scope.google = scope.google || {};\n",
              "scope.google.colab = scope.google.colab || {};\n",
              "scope.google.colab._files = {\n",
              "  _uploadFiles,\n",
              "  _uploadFilesContinue,\n",
              "};\n",
              "})(self);\n",
              "</script> "
            ],
            "text/plain": [
              "<IPython.core.display.HTML object>"
            ]
          },
          "metadata": {},
          "output_type": "display_data"
        },
        {
          "name": "stdout",
          "output_type": "stream",
          "text": [
            "Saving eventi_gauss.txt to eventi_gauss.txt\n"
          ]
        }
      ],
      "source": [
        "from google.colab import files\n",
        "uploaded = files.upload()"
      ]
    },
    {
      "cell_type": "code",
      "execution_count": null,
      "metadata": {
        "id": "qTflqKXyqqe4"
      },
      "outputs": [],
      "source": [
        "def sturges (N_events) :\n",
        "     return int( np.ceil( 1 + 3.322 * np.log(N_events) ) )"
      ]
    },
    {
      "cell_type": "code",
      "execution_count": null,
      "metadata": {
        "colab": {
          "base_uri": "https://localhost:8080/",
          "height": 430
        },
        "id": "gYd240nLpr0D",
        "outputId": "57e06667-bd9b-41f7-e085-50aa21100583"
      },
      "outputs": [
        {
          "data": {
            "image/png": "[encoded data removed]",
            "text/plain": [
              "<Figure size 640x480 with 1 Axes>"
            ]
          },
          "metadata": {},
          "output_type": "display_data"
        }
      ],
      "source": [
        "N = -1\n",
        "with open('eventi_gauss.txt','r') as datas:\n",
        "  data2 = np.array([np.float64(i) for i in datas.readlines()[0:N]])\n",
        "\n",
        "bins = np.linspace(min(data2),max(data2),sturges(len(data2)))\n",
        "plt.hist(data2,color='orange', bins = bins, edgecolor='black')\n",
        "plt.show()\n"
      ]
    },
    {
      "attachments": {},
      "cell_type": "markdown",
      "metadata": {
        "id": "tig4QI27rNsi"
      },
      "source": [
        "## Exercise 3.4\n",
        "Display the distributions of events from the two files of the previous exercises, overlaid, finding the best visualization for the comparison between the two histograms."
      ]
    },
    {
      "cell_type": "code",
      "execution_count": null,
      "metadata": {
        "colab": {
          "base_uri": "https://localhost:8080/",
          "height": 432
        },
        "id": "9Yh0Iyk4pwvw",
        "outputId": "488b7757-7aad-481e-a6e9-5ca8852c86ba"
      },
      "outputs": [
        {
          "data": {
            "image/png": "[encoded data removed]",
            "text/plain": [
              "<Figure size 640x480 with 3 Axes>"
            ]
          },
          "metadata": {},
          "output_type": "display_data"
        }
      ],
      "source": [
        "bins2 = np.linspace(min(data2),max(data2),sturges(len(data2)))\n",
        "bins1 = np.linspace(min(data1),max(data1),sturges(len(data1)))\n",
        "\n",
        "fig, ax = plt.subplots (nrows = 1, ncols = 3)\n",
        "ax[0].hist (data1,color = 'orange',edgecolor='black', bins = bins1)\n",
        "ax[1].hist (data2,color = 'green',edgecolor='black', bins = bins2)\n",
        "ax[2].hist (data1,color = 'orange',edgecolor='black', bins = bins1)\n",
        "ax[2].hist (data2,color = 'green',edgecolor='black', bins = bins1)\n",
        "\n",
        "plt.show()"
      ]
    },
    {
      "attachments": {},
      "cell_type": "markdown",
      "metadata": {
        "id": "wLqb6gaJs8gn"
      },
      "source": [
        "## Exercise 3.5\n",
        "Read the text file eventi_unif.txt:\n",
        "\n",
        "    Calculate the mean of the numbers in the text file.\n",
        "\n",
        "    Calculate the variance of the numbers in the text file.\n",
        "\n",
        "    Calculate the standard deviation of the numbers in the text file.\n",
        "\n",
        "    Calculate the standard deviation from the mean of the numbers in the text file.\n"
      ]
    },
    {
      "cell_type": "code",
      "execution_count": null,
      "metadata": {
        "colab": {
          "base_uri": "https://localhost:8080/"
        },
        "id": "O1u-WhZttLe0",
        "outputId": "1e7b429e-fa6a-4c7d-ac8f-2eba980241fa"
      },
      "outputs": [
        {
          "name": "stdout",
          "output_type": "stream",
          "text": [
            "1.5082904156312 3.1776809689426666 10.097656340380404 0.031776809689426665\n"
          ]
        }
      ],
      "source": [
        "eventi_unif = np.loadtxt('eventi_unif.txt', dtype=np.float64)\n",
        "\n",
        "mean = eventi_unif.mean()\n",
        "std = np.std(eventi_unif)\n",
        "variance = std**2\n",
        "std_mean = std / np.sqrt(len(eventi_unif))\n",
        "\n",
        "print(mean,std,variance,std_mean)\n",
        "\n"
      ]
    },
    {
      "attachments": {},
      "cell_type": "markdown",
      "metadata": {
        "id": "jzHI7vHSuS4E"
      },
      "source": [
        "## Exercise 3.6\n",
        "Write a python library which, given the name of a text file containing a sample of events as input, is able to read the sample and save it in a numpy array, then calculate its mean, variance, standard deviation, standard deviation from the mean, display the sample in a histogram with an appropriately chosen definition range and bin number. Write a test program for the created library."
      ]
    },
    {
      "cell_type": "code",
      "execution_count": null,
      "metadata": {
        "id": "_GTq5MQiuU8V"
      },
      "outputs": [],
      "source": [
        "## MY LIBRARY\n",
        "\n",
        "import matplotlib.pyplot as plt\n",
        "import numpy as np\n",
        "\n",
        "def sturges(N_events: int) :\n",
        "     return int( np.ceil( 1 + 3.322 * np.log(N_events) ) )\n",
        "\n",
        "def visualize_data(filename: str):\n",
        "  data = np.loadtxt(filename,dtype=np.float64)\n",
        "  bins = np.linspace(min(data),max(data),sturges(len(data)))\n",
        "  plt.hist(data,bins = bins, color='red',edgecolor='black')\n",
        "\n",
        "  parameters = {\n",
        "      'mean':data.mean(),\n",
        "      'std':np.std(data),\n",
        "      'var':np.std(data)**2,\n",
        "      'std_mean':data.mean()/np.sqrt(len(data))\n",
        "  }\n",
        "\n",
        "  plt.show()\n",
        "  print(parameters)\n",
        "\n",
        "  return parameters"
      ]
    },
    {
      "cell_type": "code",
      "execution_count": null,
      "metadata": {
        "colab": {
          "base_uri": "https://localhost:8080/",
          "height": 75
        },
        "id": "RF1mY01iwlIs",
        "outputId": "b0185514-7c25-4152-8b71-39007fabf8af"
      },
      "outputs": [
        {
          "data": {
            "text/html": [
              "\n",
              "     <input type=\"file\" id=\"files-793effde-992c-4299-a634-2fc56139ccec\" name=\"files[]\" multiple disabled\n",
              "        style=\"border:none\" />\n",
              "     <output id=\"result-793effde-992c-4299-a634-2fc56139ccec\">\n",
              "      Upload widget is only available when the cell has been executed in the\n",
              "      current browser session. Please rerun this cell to enable.\n",
              "      </output>\n",
              "      <script>// Copyright 2017 Google LLC\n",
              "//\n",
              "// Licensed under the Apache License, Version 2.0 (the \"License\");\n",
              "// you may not use this file except in compliance with the License.\n",
              "// You may obtain a copy of the License at\n",
              "//\n",
              "//      http://www.apache.org/licenses/LICENSE-2.0\n",
              "//\n",
              "// Unless required by applicable law or agreed to in writing, software\n",
              "// distributed under the License is distributed on an \"AS IS\" BASIS,\n",
              "// WITHOUT WARRANTIES OR CONDITIONS OF ANY KIND, either express or implied.\n",
              "// See the License for the specific language governing permissions and\n",
              "// limitations under the License.\n",
              "\n",
              "/**\n",
              " * @fileoverview Helpers for google.colab Python module.\n",
              " */\n",
              "(function(scope) {\n",
              "function span(text, styleAttributes = {}) {\n",
              "  const element = document.createElement('span');\n",
              "  element.textContent = text;\n",
              "  for (const key of Object.keys(styleAttributes)) {\n",
              "    element.style[key] = styleAttributes[key];\n",
              "  }\n",
              "  return element;\n",
              "}\n",
              "\n",
              "// Max number of bytes which will be uploaded at a time.\n",
              "const MAX_PAYLOAD_SIZE = 100 * 1024;\n",
              "\n",
              "function _uploadFiles(inputId, outputId) {\n",
              "  const steps = uploadFilesStep(inputId, outputId);\n",
              "  const outputElement = document.getElementById(outputId);\n",
              "  // Cache steps on the outputElement to make it available for the next call\n",
              "  // to uploadFilesContinue from Python.\n",
              "  outputElement.steps = steps;\n",
              "\n",
              "  return _uploadFilesContinue(outputId);\n",
              "}\n",
              "\n",
              "// This is roughly an async generator (not supported in the browser yet),\n",
              "// where there are multiple asynchronous steps and the Python side is going\n",
              "// to poll for completion of each step.\n",
              "// This uses a Promise to block the python side on completion of each step,\n",
              "// then passes the result of the previous step as the input to the next step.\n",
              "function _uploadFilesContinue(outputId) {\n",
              "  const outputElement = document.getElementById(outputId);\n",
              "  const steps = outputElement.steps;\n",
              "\n",
              "  const next = steps.next(outputElement.lastPromiseValue);\n",
              "  return Promise.resolve(next.value.promise).then((value) => {\n",
              "    // Cache the last promise value to make it available to the next\n",
              "    // step of the generator.\n",
              "    outputElement.lastPromiseValue = value;\n",
              "    return next.value.response;\n",
              "  });\n",
              "}\n",
              "\n",
              "/**\n",
              " * Generator function which is called between each async step of the upload\n",
              " * process.\n",
              " * @param {string} inputId Element ID of the input file picker element.\n",
              " * @param {string} outputId Element ID of the output display.\n",
              " * @return {!Iterable<!Object>} Iterable of next steps.\n",
              " */\n",
              "function* uploadFilesStep(inputId, outputId) {\n",
              "  const inputElement = document.getElementById(inputId);\n",
              "  inputElement.disabled = false;\n",
              "\n",
              "  const outputElement = document.getElementById(outputId);\n",
              "  outputElement.innerHTML = '';\n",
              "\n",
              "  const pickedPromise = new Promise((resolve) => {\n",
              "    inputElement.addEventListener('change', (e) => {\n",
              "      resolve(e.target.files);\n",
              "    });\n",
              "  });\n",
              "\n",
              "  const cancel = document.createElement('button');\n",
              "  inputElement.parentElement.appendChild(cancel);\n",
              "  cancel.textContent = 'Cancel upload';\n",
              "  const cancelPromise = new Promise((resolve) => {\n",
              "    cancel.onclick = () => {\n",
              "      resolve(null);\n",
              "    };\n",
              "  });\n",
              "\n",
              "  // Wait for the user to pick the files.\n",
              "  const files = yield {\n",
              "    promise: Promise.race([pickedPromise, cancelPromise]),\n",
              "    response: {\n",
              "      action: 'starting',\n",
              "    }\n",
              "  };\n",
              "\n",
              "  cancel.remove();\n",
              "\n",
              "  // Disable the input element since further picks are not allowed.\n",
              "  inputElement.disabled = true;\n",
              "\n",
              "  if (!files) {\n",
              "    return {\n",
              "      response: {\n",
              "        action: 'complete',\n",
              "      }\n",
              "    };\n",
              "  }\n",
              "\n",
              "  for (const file of files) {\n",
              "    const li = document.createElement('li');\n",
              "    li.append(span(file.name, {fontWeight: 'bold'}));\n",
              "    li.append(span(\n",
              "        `(${file.type || 'n/a'}) - ${file.size} bytes, ` +\n",
              "        `last modified: ${\n",
              "            file.lastModifiedDate ? file.lastModifiedDate.toLocaleDateString() :\n",
              "                                    'n/a'} - `));\n",
              "    const percent = span('0% done');\n",
              "    li.appendChild(percent);\n",
              "\n",
              "    outputElement.appendChild(li);\n",
              "\n",
              "    const fileDataPromise = new Promise((resolve) => {\n",
              "      const reader = new FileReader();\n",
              "      reader.onload = (e) => {\n",
              "        resolve(e.target.result);\n",
              "      };\n",
              "      reader.readAsArrayBuffer(file);\n",
              "    });\n",
              "    // Wait for the data to be ready.\n",
              "    let fileData = yield {\n",
              "      promise: fileDataPromise,\n",
              "      response: {\n",
              "        action: 'continue',\n",
              "      }\n",
              "    };\n",
              "\n",
              "    // Use a chunked sending to avoid message size limits. See b/62115660.\n",
              "    let position = 0;\n",
              "    do {\n",
              "      const length = Math.min(fileData.byteLength - position, MAX_PAYLOAD_SIZE);\n",
              "      const chunk = new Uint8Array(fileData, position, length);\n",
              "      position += length;\n",
              "\n",
              "      const base64 = btoa(String.fromCharCode.apply(null, chunk));\n",
              "      yield {\n",
              "        response: {\n",
              "          action: 'append',\n",
              "          file: file.name,\n",
              "          data: base64,\n",
              "        },\n",
              "      };\n",
              "\n",
              "      let percentDone = fileData.byteLength === 0 ?\n",
              "          100 :\n",
              "          Math.round((position / fileData.byteLength) * 100);\n",
              "      percent.textContent = `${percentDone}% done`;\n",
              "\n",
              "    } while (position < fileData.byteLength);\n",
              "  }\n",
              "\n",
              "  // All done.\n",
              "  yield {\n",
              "    response: {\n",
              "      action: 'complete',\n",
              "    }\n",
              "  };\n",
              "}\n",
              "\n",
              "scope.google = scope.google || {};\n",
              "scope.google.colab = scope.google.colab || {};\n",
              "scope.google.colab._files = {\n",
              "  _uploadFiles,\n",
              "  _uploadFilesContinue,\n",
              "};\n",
              "})(self);\n",
              "</script> "
            ],
            "text/plain": [
              "<IPython.core.display.HTML object>"
            ]
          },
          "metadata": {},
          "output_type": "display_data"
        },
        {
          "name": "stdout",
          "output_type": "stream",
          "text": [
            "Saving mylib_data_visualization.py to mylib_data_visualization.py\n"
          ]
        }
      ],
      "source": [
        "from google.colab import files\n",
        "uploaded = files.upload()"
      ]
    },
    {
      "cell_type": "code",
      "execution_count": null,
      "metadata": {
        "colab": {
          "base_uri": "https://localhost:8080/",
          "height": 447
        },
        "id": "4LD2M4jcwog9",
        "outputId": "816e7a57-afe4-43b2-8e8c-16dc7cd9852f"
      },
      "outputs": [
        {
          "data": {
            "image/png": "[encoded data removed]",
            "text/plain": [
              "<Figure size 640x480 with 1 Axes>"
            ]
          },
          "metadata": {},
          "output_type": "display_data"
        },
        {
          "name": "stdout",
          "output_type": "stream",
          "text": [
            "{'mean': 1.5031271979973, 'std': 1.0130372425889678, 'var': 1.0262444548722591, 'std_mean': 0.015031271979973}\n"
          ]
        }
      ],
      "source": [
        "# from mylib_data_visualization import visualize_data\n",
        "\n",
        "_ = visualize_data('eventi_gauss.txt')"
      ]
    },
    {
      "attachments": {},
      "cell_type": "markdown",
      "metadata": {
        "id": "yJRjVM2PxcsI"
      },
      "source": [
        "## Exercise 3.7\n",
        "Write a Python program to draw a Gaussian distribution and its cumulative function"
      ]
    },
    {
      "cell_type": "code",
      "execution_count": null,
      "metadata": {
        "colab": {
          "base_uri": "https://localhost:8080/",
          "height": 430
        },
        "id": "1qAoxkRkxjdS",
        "outputId": "a00e72cf-2480-4e41-d32f-426bcc1dd3cc"
      },
      "outputs": [
        {
          "data": {
            "image/png": "[encoded data removed]",
            "text/plain": [
              "<Figure size 640x480 with 2 Axes>"
            ]
          },
          "metadata": {},
          "output_type": "display_data"
        }
      ],
      "source": [
        "from scipy.stats import norm\n",
        "\n",
        "x = np.linspace(-2,2,100)\n",
        "norm_fix = norm (0, 1)\n",
        "\n",
        "fig, ax = plt.subplots (nrows = 1, ncols = 2)\n",
        "ax[0].plot(x,norm_fix.pdf(x), color ='aqua')\n",
        "ax[1].plot(x,norm_fix.cdf(x), color='lime')\n",
        "plt.show()"
      ]
    },
    {
      "attachments": {},
      "cell_type": "markdown",
      "metadata": {
        "id": "sJCd9EKPynIb"
      },
      "source": [
        "## Exercise 3.8\n",
        "Write a Python program to draw an exponential distribution and its cumulative function"
      ]
    },
    {
      "cell_type": "code",
      "execution_count": null,
      "metadata": {
        "colab": {
          "base_uri": "https://localhost:8080/",
          "height": 430
        },
        "id": "H6UsLJDqyxTW",
        "outputId": "aa099bd8-c37d-42ed-b0aa-6a68330890dd"
      },
      "outputs": [
        {
          "data": {
            "image/png": "[encoded data removed]",
            "text/plain": [
              "<Figure size 640x480 with 2 Axes>"
            ]
          },
          "metadata": {},
          "output_type": "display_data"
        }
      ],
      "source": [
        "from scipy.stats import expon\n",
        "\n",
        "x = np.linspace(0,10,100)\n",
        "expon_fix = expon (0, 1)\n",
        "\n",
        "fig, ax = plt.subplots (nrows = 1, ncols = 2)\n",
        "ax[0].plot(x,expon_fix.pdf(x), color ='aqua')\n",
        "ax[1].plot(x,expon_fix.cdf(x), color='lime')\n",
        "plt.show()\n"
      ]
    },
    {
      "attachments": {},
      "cell_type": "markdown",
      "metadata": {
        "id": "1upJDwk20uDx"
      },
      "source": [
        "## Exercise 3.9\n",
        "Use the Python scipy.stat.norm object to determine the area of a normal distribution of its tails outside the range included within an interval of 1, 2, 3, 4, and 5 standard deviations around its mean"
      ]
    },
    {
      "cell_type": "code",
      "execution_count": null,
      "metadata": {
        "colab": {
          "base_uri": "https://localhost:8080/"
        },
        "id": "vZgrLxDo0zXx",
        "outputId": "487ce4f7-abea-4db8-b9ea-a2a31847173b"
      },
      "outputs": [
        {
          "name": "stdout",
          "output_type": "stream",
          "text": [
            "The area of the tails at 1 sigma is: 0.317310508\n",
            "The area of the tails at 2 sigma is: 0.045500264\n",
            "The area of the tails at 3 sigma is: 0.002699796\n",
            "The area of the tails at 4 sigma is: 6.3342e-05\n",
            "The area of the tails at 5 sigma is: 5.73e-07\n"
          ]
        }
      ],
      "source": [
        "from scipy.integrate import quad\n",
        "\n",
        "for t in range(1,6):\n",
        "  norm_fix = norm(0,1*t)\n",
        "  print(f\"The area of the tails at {t} sigma is: {np.round(1-quad(norm.pdf,-1*t,1*t)[0],9)}\")"
      ]
    },
    {
      "attachments": {},
      "cell_type": "markdown",
      "metadata": {
        "id": "K5P7hvc93c5K"
      },
      "source": [
        "## Exercise 3.10\n",
        "Write a Python program to draw a binomial distribution and its cumulative function"
      ]
    },
    {
      "cell_type": "code",
      "execution_count": null,
      "metadata": {
        "colab": {
          "base_uri": "https://localhost:8080/",
          "height": 430
        },
        "id": "vVZKodGN3h3w",
        "outputId": "860b9be7-1014-4a1f-c232-af8e0439b373"
      },
      "outputs": [
        {
          "data": {
            "image/png": "[encoded data removed]",
            "text/plain": [
              "<Figure size 640x480 with 2 Axes>"
            ]
          },
          "metadata": {},
          "output_type": "display_data"
        }
      ],
      "source": [
        "from scipy.stats import binom\n",
        "N,p = 50,0.1\n",
        "\n",
        "binom_fix = binom(N,p)\n",
        "x = np.arange(binom_fix.ppf(0.01),binom_fix.ppf(0.99))\n",
        "\n",
        "fig, ax = plt.subplots (nrows = 1, ncols = 2)\n",
        "ax[0].plot(x,binom_fix.pmf(x), color ='aqua')\n",
        "ax[1].plot(x,binom_fix.cdf(x), color='lime')\n",
        "plt.show()\n"
      ]
    },
    {
      "attachments": {},
      "cell_type": "markdown",
      "metadata": {
        "id": "eOV9LXxl5XVt"
      },
      "source": [
        "## Exercise 3.11\n",
        "Write a Python program to draw a Poisson distribution for several values of its mean, overlapped"
      ]
    },
    {
      "cell_type": "code",
      "execution_count": 5,
      "metadata": {
        "colab": {
          "base_uri": "https://localhost:8080/",
          "height": 430
        },
        "id": "4REit5YY5W7d",
        "outputId": "78ea1c03-76f9-4251-fdb9-1781ecd00b21"
      },
      "outputs": [
        {
          "data": {
            "image/png": "[encoded data removed]",
            "text/plain": [
              "<Figure size 640x480 with 2 Axes>"
            ]
          },
          "metadata": {},
          "output_type": "display_data"
        }
      ],
      "source": [
        "from scipy.stats import poisson\n",
        "from matplotlib import pyplot as plt\n",
        "\n",
        "fig, ax = plt.subplots (nrows = 1, ncols = 2)\n",
        "\n",
        "for mu in range(1,10,2): # 5 cicli\n",
        "  k = np.arange(0,20)\n",
        "  poisson_fix = poisson(mu)\n",
        "\n",
        "  ax[0].plot(k,poisson_fix.pmf(k))\n",
        "  ax[1].plot(k,poisson_fix.cdf(k))\n",
        "  # ax[0].plot([mu,mu], [0,poisson_fix.pmf(mu)], color = 'red')\n",
        "plt.show()\n"
      ]
    },
    {
      "attachments": {},
      "cell_type": "markdown",
      "metadata": {
        "id": "KRoPFjcF84mi"
      },
      "source": [
        "## Exercise 3.12\n",
        "Write a Python program to draw a Poisson distribution. Show, by using the third and fourth central momenta calculations available in the scipy.stat library, that the momenta of a Poisson distribution asymptotically tend to the ones of a Gaussian."
      ]
    },
    {
      "cell_type": "code",
      "execution_count": null,
      "metadata": {
        "colab": {
          "base_uri": "https://localhost:8080/"
        },
        "id": "B61xSNbe8-Mp",
        "outputId": "7b9ec872-3715-4d6e-fda6-b1279c670f93"
      },
      "outputs": [
        {
          "name": "stdout",
          "output_type": "stream",
          "text": [
            "(1.0, 1.0) (0.0, 0.0)\n",
            "(0.09950371902099892, 0.009900990099009901) (0.0, 0.0)\n",
            "(0.07053456158585983, 0.004975124378109453) (0.0, 0.0)\n",
            "(0.0576390417704235, 0.0033222591362126247) (0.0, 0.0)\n",
            "(0.04993761694389223, 0.0024937655860349127) (0.0, 0.0)\n",
            "(0.044676705160877024, 0.001996007984031936) (0.0, 0.0)\n",
            "(0.04079085082240021, 0.0016638935108153079) (0.0, 0.0)\n",
            "(0.0377694787300249, 0.0014265335235378032) (0.0, 0.0)\n",
            "(0.03533326266687867, 0.0012484394506866417) (0.0, 0.0)\n",
            "(0.03331483023263848, 0.0011098779134295228) (0.0, 0.0)\n"
          ]
        }
      ],
      "source": [
        "for mu in range(1,1000,100):\n",
        "  print(poisson.stats(mu, moments='sk'),norm.stats(moments='sk'))"
      ]
    },
    {
      "attachments": {},
      "cell_type": "markdown",
      "metadata": {
        "id": "B290ZMni-FqV"
      },
      "source": [
        "## Exercise 3.13\n",
        "What is the probability that ten measurements of the same quantity expected to be Gaussian fall within an interval of 1 standard deviation width around the mean?"
      ]
    },
    {
      "cell_type": "code",
      "execution_count": null,
      "metadata": {
        "colab": {
          "base_uri": "https://localhost:8080/"
        },
        "id": "egeiov6l-Jms",
        "outputId": "4de80d11-4af2-42ac-c164-9f8188f14123"
      },
      "outputs": [
        {
          "name": "stdout",
          "output_type": "stream",
          "text": [
            "Probability of getting 10 measurements in 1 sigma:  0.02199035204922011\n"
          ]
        }
      ],
      "source": [
        "p1s = 1 - 0.317310508 # probability in 1 sigma for 1 value taken from ex 3.9 (around 0.68)\n",
        "n = 10\n",
        "k = 10\n",
        "\n",
        "print('Probability of getting 10 measurements in 1 sigma: ',binom.pmf(k,n,p1s))\n"
      ]
    },
    {
      "attachments": {},
      "cell_type": "markdown",
      "metadata": {
        "id": "UhfYj5Go_QGs"
      },
      "source": [
        "## Exercise 3.14\n",
        "What is the probability that ten measurements of the same counting experiment expected to be Poisson distributed are all larger than the expected average number of events?"
      ]
    },
    {
      "cell_type": "code",
      "execution_count": null,
      "metadata": {
        "colab": {
          "base_uri": "https://localhost:8080/"
        },
        "id": "r4RwmUkO_T-U",
        "outputId": "0c7479c9-b14e-4a66-ed36-ad30276bff4c"
      },
      "outputs": [
        {
          "name": "stdout",
          "output_type": "stream",
          "text": [
            "Probability of getting 10 measurements over 4:  0.003405871052875344\n"
          ]
        }
      ],
      "source": [
        "\n",
        "mu = 4\n",
        "poisson_fix = poisson(mu)\n",
        "\n",
        "vals = [poisson_fix.pmf(i) for i in range(mu,mu*10)]\n",
        "p = sum(vals) # integral over non continous function\n",
        "\n",
        "n = 10\n",
        "k = 10\n",
        "\n",
        "print(f'Probability of getting 10 measurements over {mu}: ',binom.pmf(k,n,p))\n",
        "\n"
      ]
    }
  ],
  "metadata": {
    "colab": {
      "provenance": []
    },
    "kernelspec": {
      "display_name": "Python 3",
      "name": "python3"
    },
    "language_info": {
      "codemirror_mode": {
        "name": "ipython",
        "version": 3
      },
      "file_extension": ".py",
      "mimetype": "text/x-python",
      "name": "python",
      "nbconvert_exporter": "python",
      "pygments_lexer": "ipython3",
      "version": "3.11.6"
    }
  },
  "nbformat": 4,
  "nbformat_minor": 0
}
