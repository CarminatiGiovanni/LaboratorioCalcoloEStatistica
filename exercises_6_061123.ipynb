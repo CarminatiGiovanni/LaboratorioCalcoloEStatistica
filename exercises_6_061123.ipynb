{
 "cells": [
  {
   "cell_type": "markdown",
   "metadata": {},
   "source": [
    "# EXERCISES 06-11-23"
   ]
  },
  {
   "cell_type": "markdown",
   "metadata": {},
   "source": [
    "## Exercise 6.1\n",
    "Determine the zero of the function g(x) = cos(x) using the bisection method in the interval (0, 4).\n",
    "\n",
    "Which checks have been omitted in the implementation of the algorithm described in the lesson text that could speed up the result?"
   ]
  },
  {
   "cell_type": "code",
   "execution_count": 7,
   "metadata": {},
   "outputs": [
    {
     "name": "stdout",
     "output_type": "stream",
     "text": [
      "Zero of f:[0,4]->R s.t. x |-> cos(x) =  3.99993896484375\n"
     ]
    }
   ],
   "source": [
    "import numpy as np\n",
    "\n",
    "def bisection(f,a,b,prec=0.0001):\n",
    "    c = a\n",
    "    while b - a > prec:\n",
    "        c = 0.5 * (b + a)\n",
    "        if f(c) * f(b) > 0 : a = c\n",
    "        else: b = c\n",
    "    return c\n",
    "\n",
    "min04 = bisection(np.cos,0,4)\n",
    "print('Zero of f:[0,4]->R s.t. x |-> cos(x) = ', min04)\n"
   ]
  },
  {
   "cell_type": "markdown",
   "metadata": {},
   "source": [
    "Because the function $\\cos(x)$ has simmetries, a good algorithm to find minima should be optimized to reduce the function to a simple case (such that $f$ restricted from 0 to $\\pi$)"
   ]
  },
  {
   "cell_type": "markdown",
   "metadata": {},
   "source": [
    "## Exercise 6.2\n",
    "Perform the previous exercise using a recursive function.\n",
    "\n",
    "Which of the two implementations is faster?"
   ]
  },
  {
   "cell_type": "code",
   "execution_count": 9,
   "metadata": {},
   "outputs": [
    {
     "name": "stdout",
     "output_type": "stream",
     "text": [
      "Zero of f:[0,4]->R s.t. x |-> cos(x) =  3.999969482421875\n"
     ]
    }
   ],
   "source": [
    "def bisection_r(f,a,b,prec=0.0001):\n",
    "    c = 0.5 * (b + a)\n",
    "    if b - a < prec: return c\n",
    "    if f(c) * f(b) > 0: return bisection_r(f,c,b,prec)\n",
    "    else: return bisection_r(f,a,c,prec)\n",
    "\n",
    "min04 = bisection_r(np.cos,0,4)\n",
    "print('Zero of f:[0,4]->R s.t. x |-> cos(x) = ', min04)"
   ]
  },
  {
   "cell_type": "markdown",
   "metadata": {},
   "source": [
    "Their time performance is the same, so they are equivalent in efficency for this case\n",
    "\n",
    "*bisection_r* is more readable and compact "
   ]
  },
  {
   "cell_type": "markdown",
   "metadata": {},
   "source": [
    "## Exercise 6.3\n",
    "Implement a function that calculates the factorial of a number using a recursive function."
   ]
  },
  {
   "cell_type": "code",
   "execution_count": 2,
   "metadata": {},
   "outputs": [
    {
     "name": "stdout",
     "output_type": "stream",
     "text": [
      "1\n",
      "2\n",
      "6\n",
      "24\n",
      "120\n",
      "720\n",
      "5040\n",
      "40320\n",
      "362880\n",
      "3628800\n",
      "39916800\n",
      "479001600\n",
      "6227020800\n",
      "87178291200\n"
     ]
    }
   ],
   "source": [
    "def fact(n):\n",
    "    if n < 1: raise(\"Impossible fattorize numbers smaller than 1\")\n",
    "    if n == 1: return n\n",
    "    else: return n*fact(n-1)\n",
    "\n",
    "for i in range(1,15):\n",
    "    print(fact(i))"
   ]
  },
  {
   "cell_type": "markdown",
   "metadata": {},
   "source": [
    "## Exercise 6.4\n",
    "Determine the minimum of the function g(x) = x2 + 7.3x + 4 using the golden ratio search method in the interval (-10, 10)."
   ]
  },
  {
   "cell_type": "code",
   "execution_count": 5,
   "metadata": {},
   "outputs": [
    {
     "name": "stdout",
     "output_type": "stream",
     "text": [
      "min of (x-2)^2 (in [-5,5]) is x= -2.000013761861483\n",
      "min of x^2 + 7.3x + 4 (in [-10,10]) is x= -3.64999463380726\n"
     ]
    }
   ],
   "source": [
    "f = lambda x: (x+2)**2\n",
    "g = lambda x: x**2 + 7.3*x + 4\n",
    "\n",
    "def golden_ratio_min(f,a,b,prec=0.0001):\n",
    "    x1 = a + 0.618 * (b - a)\n",
    "    x2 = a + 0.382 * (b - a)\n",
    "    if b - a < prec: return x1\n",
    "    if f(x1) < f(x2): return golden_ratio_min(f,x2,b,prec)\n",
    "    else: return golden_ratio_min(f,a,x1,prec)\n",
    "\n",
    "print('min of (x-2)^2 (in [-5,5]) is x=',golden_ratio_min(f,-5,5))\n",
    "print('min of x^2 + 7.3x + 4 (in [-10,10]) is x=',golden_ratio_min(g,-10,10))\n",
    "    "
   ]
  },
  {
   "cell_type": "markdown",
   "metadata": {},
   "source": [
    "## Exercise 6.5\n",
    "Perform the previous exercise using a recursive function.\n",
    "\n",
    "Which of the two implementations is faster?"
   ]
  }
 ],
 "metadata": {
  "kernelspec": {
   "display_name": "Python 3",
   "language": "python",
   "name": "python3"
  },
  "language_info": {
   "codemirror_mode": {
    "name": "ipython",
    "version": 3
   },
   "file_extension": ".py",
   "mimetype": "text/x-python",
   "name": "python",
   "nbconvert_exporter": "python",
   "pygments_lexer": "ipython3",
   "version": "3.10.2"
  }
 },
 "nbformat": 4,
 "nbformat_minor": 2
}
