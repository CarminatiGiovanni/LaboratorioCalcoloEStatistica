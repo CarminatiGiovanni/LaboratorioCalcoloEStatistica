{
 "cells": [
  {
   "cell_type": "markdown",
   "metadata": {},
   "source": [
    "# EXERCISES 11"
   ]
  },
  {
   "cell_type": "code",
   "execution_count": 126,
   "metadata": {},
   "outputs": [],
   "source": [
    "import numpy as np\n",
    "from matplotlib import pyplot as plt\n",
    "from iminuit import Minuit\n",
    "from iminuit.cost import LeastSquares\n",
    "from scipy.stats import chi2"
   ]
  },
  {
   "cell_type": "markdown",
   "metadata": {},
   "source": [
    "## Exercise 11.1\n",
    "After defining, in a dedicated library, a linear function \n",
    " with two parameters \n",
    ":\n",
    "\n",
    "Write a program that generates a set of 10 pairs \n",
    " such that the points \n",
    " are randomly distributed along the horizontal axis between 0 and 10, and the points \n",
    " are constructed using the formula \n",
    ".\n",
    "\n",
    "Plot the obtained sample, including the expected error bars.\n",
    "\n",
    "\n"
   ]
  },
  {
   "cell_type": "code",
   "execution_count": 90,
   "metadata": {},
   "outputs": [
    {
     "data": {
      "image/png": "[encoded data removed]",
      "text/plain": [
       "<Figure size 640x480 with 1 Axes>"
      ]
     },
     "metadata": {},
     "output_type": "display_data"
    }
   ],
   "source": [
    "def phi(x,t1,t2):\n",
    "    return t1 + t2*x**3\n",
    "\n",
    "expT = [1,3]\n",
    "expX = np.linspace(-3,3,100)\n",
    "expY = phi(expX, *expT)\n",
    "sigma = 10\n",
    "\n",
    "N = 10\n",
    "realX = np.linspace(-3,3,N)\n",
    "epsilon = (np.random.rand(N)*2 - 1) * sigma\n",
    "P = phi(realX, *expT)\n",
    "realY = P + epsilon\n",
    "\n",
    "plt.plot(expX,expY)\n",
    "plt.errorbar(realX,realY,yerr=sigma,fmt='o',color='red',ecolor='black',capsize=3)\n",
    "plt.show()\n"
   ]
  },
  {
   "cell_type": "markdown",
   "metadata": {},
   "source": [
    "## Exercise 11.2\n",
    "Use the iMinuit library to perform a fit on the simulated sample.\n",
    "\n",
    "Check if the fit was successful.\n",
    "\n",
    "Print the values of the determined parameters and their sigmas on the screen."
   ]
  },
  {
   "cell_type": "code",
   "execution_count": 115,
   "metadata": {},
   "outputs": [
    {
     "name": "stdout",
     "output_type": "stream",
     "text": [
      "┌─────────────────────────────────────────────────────────────────────────┐\n",
      "│                                Migrad                                   │\n",
      "├──────────────────────────────────┬──────────────────────────────────────┤\n",
      "│ FCN = 2.631 (χ²/ndof = 0.3)      │              Nfcn = 32               │\n",
      "│ EDM = 1.96e-19 (Goal: 0.0002)    │                                      │\n",
      "├──────────────────────────────────┼──────────────────────────────────────┤\n",
      "│          Valid Minimum           │   Below EDM threshold (goal x 10)    │\n",
      "├──────────────────────────────────┼──────────────────────────────────────┤\n",
      "│      No parameters at limit      │           Below call limit           │\n",
      "├──────────────────────────────────┼──────────────────────────────────────┤\n",
      "│             Hesse ok             │         Covariance accurate          │\n",
      "└──────────────────────────────────┴──────────────────────────────────────┘\n",
      "┌───┬──────┬───────────┬───────────┬────────────┬────────────┬─────────┬─────────┬───────┐\n",
      "│   │ Name │   Value   │ Hesse Err │ Minos Err- │ Minos Err+ │ Limit-  │ Limit+  │ Fixed │\n",
      "├───┼──────┼───────────┼───────────┼────────────┼────────────┼─────────┼─────────┼───────┤\n",
      "│ 0 │ t1   │    1.7    │    3.2    │            │            │         │         │       │\n",
      "│ 1 │ t2   │   2.81    │   0.23    │            │            │         │         │       │\n",
      "└───┴──────┴───────────┴───────────┴────────────┴────────────┴─────────┴─────────┴───────┘\n",
      "┌────┬───────────────┐\n",
      "│    │     t1     t2 │\n",
      "├────┼───────────────┤\n",
      "│ t1 │     10  -0.00 │\n",
      "│ t2 │  -0.00 0.0548 │\n",
      "└────┴───────────────┘\n",
      "success of the fit:  True\n",
      "value of the fit Q-squared 2.6306116344067267\n",
      "value of the number of degrees of freedom 8.0\n",
      "t1 = 1.694 +/- 3.162\n",
      "t2 = 2.810 +/- 0.234\n"
     ]
    }
   ],
   "source": [
    "least_squares = LeastSquares (realX, realY, sigma*np.ones(N), phi)\n",
    "my_minuit = Minuit (least_squares, t1 = 1, t2 = 3)  # starting values for t1 and t2\n",
    "my_minuit.migrad ()  # finds minimum of least_squares function\n",
    "my_minuit.hesse ()   # accurately computes uncertainties\n",
    "print(my_minuit)\n",
    "\n",
    "is_valid = my_minuit.valid\n",
    "print ('success of the fit: ', is_valid)\n",
    "Q_squared = my_minuit.fval\n",
    "print ('value of the fit Q-squared', Q_squared)\n",
    "N_dof = my_minuit.ndof\n",
    "print ('value of the number of degrees of freedom', N_dof)\n",
    "\n",
    "for par, val, err in zip (my_minuit.parameters, my_minuit.values, my_minuit.errors) :\n",
    "    print(f'{par} = {val:.3f} +/- {err:.3f}') # formatted output"
   ]
  },
  {
   "cell_type": "markdown",
   "metadata": {},
   "source": [
    "## Exercise 11.3\n",
    "Calculate the value of $Q^2$\n",
    " using the points and the fitted function obtained in the previous exercise.\n",
    "\n",
    "Compare the value obtained with iminuit with the calculated one.\n",
    "\n",
    "Print the value of the degrees of freedom of the fit."
   ]
  },
  {
   "cell_type": "code",
   "execution_count": 98,
   "metadata": {},
   "outputs": [
    {
     "name": "stdout",
     "output_type": "stream",
     "text": [
      "Q2: 3.3369643853073456, minuit Q2: 2.6306116344067267\n"
     ]
    }
   ],
   "source": [
    "Q2 = np.sum(((realY - phi(realX,*expT))/sigma)**2)\n",
    "\n",
    "print(f'Q2: {Q2}, minuit Q2: {my_minuit.fval}')"
   ]
  },
  {
   "cell_type": "markdown",
   "metadata": {},
   "source": [
    "## Exercise 11.4\n",
    "Using the toy experiments technique, generate 10,000 fit experiments with the model studied in the previous exercises and fill a histogram with the obtained values of $Q^2$.\n",
    "\n",
    "Compare the expected value of  $Q^2$\n",
    " obtained from the toy experiments with the degrees of freedom of the problem."
   ]
  },
  {
   "cell_type": "code",
   "execution_count": 168,
   "metadata": {},
   "outputs": [
    {
     "data": {
      "image/png": "[encoded data removed]",
      "text/plain": [
       "<Figure size 640x480 with 1 Axes>"
      ]
     },
     "metadata": {},
     "output_type": "display_data"
    },
    {
     "name": "stdout",
     "output_type": "stream",
     "text": [
      "7.96276563200063 812.4868987071366\n"
     ]
    }
   ],
   "source": [
    "def toy_exp_Q(phi,sigma,N): # parameters of phy are fixed\n",
    "    realX = np.random.rand(N) * 6 - 3 # rand number [-3,3]\n",
    "    \n",
    "    expY = phi(realX,1,3)\n",
    "    epsilon = np.random.normal(loc=0,scale=sigma,size=N)\n",
    "    realY = expY + epsilon\n",
    "    \n",
    "    least_squares = LeastSquares (realX, realY, sigma*np.ones(N), phi)\n",
    "    fit = Minuit (least_squares, t1 = 1, t2 = 3)\n",
    "    fit.migrad ()\n",
    "    return np.sum(((realY - phi(realX,fit.values[0],fit.values[1]))/sigma)**2)\n",
    "\n",
    "N = 10\n",
    "k = 2\n",
    "t1, t2 = 1, 3\n",
    "sigma = 10\n",
    "Q2S = np.array([toy_exp_Q(phi,sigma,N) for i in range(5000)])\n",
    "\n",
    "\n",
    "plt.hist(Q2S,bins=40,density=True)\n",
    "x = np.linspace(min(Q2S),max(Q2S),100)\n",
    "plt.plot(x,chi2.pdf(x,df=10-2))\n",
    "plt.show()\n",
    "\n",
    "mean = np.average(Q2S)\n",
    "variance = np.sum(((Q2S - mean)/sigma)**2)\n",
    "\n",
    "print(mean,variance)"
   ]
  },
  {
   "cell_type": "markdown",
   "metadata": {},
   "source": [
    "## Exercise 11.5\n",
    "Modify the previous program by deliberately changing the experimental uncertainty associated with the points $y_i$ in the sample and verify that it’s possible to recover the uncertainty used in generating the points through the expected value of the variable $Q^2$."
   ]
  },
  {
   "cell_type": "markdown",
   "metadata": {},
   "source": [
    "$E(Q^2) = E(\\Chi^2(Q^2,N-k)) = N - k$\n",
    "\n",
    "$E(V(Q^2)) = E(V(\\Chi^2(Q^2,N-k))) = 2(N-k)$\n",
    "\n",
    "$V(Q^2) = \\sum (\\frac{Q^2 - \\bar{Q^2}}{\\sigma})^2$\n",
    "\n",
    "$\\sigma^2 = \\frac{\\sum (Q^2 - N + k)^2}{2(N-k)}$"
   ]
  },
  {
   "cell_type": "code",
   "execution_count": 165,
   "metadata": {},
   "outputs": [
    {
     "name": "stdout",
     "output_type": "stream",
     "text": [
      "[35.10069353 34.80266411 38.7611912  42.10164159 38.49470335]\n"
     ]
    }
   ],
   "source": [
    "def toy_exp_Q(phi,sigma,N): # parameters of phy are fixed\n",
    "    realX = np.random.rand(N) * 6 - 3 # rand number [-3,3]\n",
    "    \n",
    "    expY = phi(realX,1,3)\n",
    "    epsilon = np.random.normal(loc=0,scale=sigma,size=N)\n",
    "    realY = expY + epsilon\n",
    "    \n",
    "    least_squares = LeastSquares (realX, realY, sigma*np.ones(N), phi)\n",
    "    fit = Minuit (least_squares, t1 = 1, t2 = 3)\n",
    "    fit.migrad ()\n",
    "    return np.sum(((realY - phi(realX,fit.values[0],fit.values[1]))/sigma)**2)\n",
    "\n",
    "N = 10\n",
    "k = 2\n",
    "t1, t2 = 1, 3\n",
    "\n",
    "Q2S = np.array([np.array([toy_exp_Q(phi,sigma,N) for i in range(100)]) for sigma in range(10,60,10)])\n",
    "\n",
    "sigmas = np.sqrt(np.array([np.sum((Q2S[i] - N + k)**2) for i in range(0,len(Q2S))]))\n",
    "\n",
    "print(sigmas)\n",
    "\n",
    "\n",
    "# plt.hist(Q2S,bins=40,density=True)\n",
    "# x = np.linspace(min(Q2S),max(Q2S),100)\n",
    "# plt.plot(x,chi2.pdf(x,df=10-2))\n",
    "# plt.show()\n",
    "\n",
    "# mean = np.average(Q2S)\n",
    "# variance = np.sum(((Q2S - mean)/sigma)**2)\n",
    "\n",
    "# print(mean,variance)"
   ]
  }
 ],
 "metadata": {
  "kernelspec": {
   "display_name": "Python 3",
   "language": "python",
   "name": "python3"
  },
  "language_info": {
   "codemirror_mode": {
    "name": "ipython",
    "version": 3
   },
   "file_extension": ".py",
   "mimetype": "text/x-python",
   "name": "python",
   "nbconvert_exporter": "python",
   "pygments_lexer": "ipython3",
   "version": "3.10.12"
  }
 },
 "nbformat": 4,
 "nbformat_minor": 2
}
