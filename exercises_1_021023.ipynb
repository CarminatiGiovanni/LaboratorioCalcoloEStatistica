{
 "cells": [
  {
   "attachments": {},
   "cell_type": "markdown",
   "metadata": {},
   "source": [
    "# Exercises for Lecture 1 02-10-2023"
   ]
  },
  {
   "attachments": {},
   "cell_type": "markdown",
   "metadata": {},
   "source": [
    "## Exercise 1.1\n",
    "\n",
    "Write a program that reads an integer given as input from the user and determines whether it is divisible by 2, 3, 5, or 7."
   ]
  },
  {
   "cell_type": "code",
   "execution_count": 5,
   "metadata": {},
   "outputs": [
    {
     "name": "stdout",
     "output_type": "stream",
     "text": [
      "The divisors of 42 are 2,3,7\n"
     ]
    }
   ],
   "source": [
    "def divisibleBy2357(x: int) -> int:\n",
    "    d = (2,3,5,7)\n",
    "    divisors = []\n",
    "    for i in d: \n",
    "        if x % i == 0: divisors.append(i)\n",
    "    return divisors\n",
    "\n",
    "x = 42 # int(input(\"Insert an integer: \"))\n",
    "print(f\"The divisors of {x} are {','.join(str(i) for i in divisibleBy2357(x))}\")"
   ]
  },
  {
   "attachments": {},
   "cell_type": "markdown",
   "metadata": {},
   "source": [
    "Encapsulate the check into a function taking as input two numbers, and write a program that asks the user to insert two numbers and checks whether the first is divisible by the other one (and vice-versa)"
   ]
  },
  {
   "cell_type": "code",
   "execution_count": 6,
   "metadata": {},
   "outputs": [
    {
     "name": "stdout",
     "output_type": "stream",
     "text": [
      "29 is not divisible by 11\n"
     ]
    }
   ],
   "source": [
    "def divisible(n:int,d:int)->bool:\n",
    "    return n % d == 0\n",
    "\n",
    "numerator = 29 # int(input(\"Insert the numerator: \"))\n",
    "denominator = 11 # int(input(\"Insert the denominator: \"))\n",
    "\n",
    "answer = \"\" if divisible(numerator, denominator) else \"not \"\n",
    "\n",
    "print(f\"{numerator} is {answer}divisible by {denominator}\")"
   ]
  },
  {
   "attachments": {},
   "cell_type": "markdown",
   "metadata": {},
   "source": [
    "##  Exercise 1.2\n",
    "\n",
    "Write a program that, given the three sides of a triangle, determines whether the triangle is acute-angled, rectangular-angled or obtuse-angled."
   ]
  },
  {
   "cell_type": "code",
   "execution_count": 7,
   "metadata": {},
   "outputs": [
    {
     "name": "stdout",
     "output_type": "stream",
     "text": [
      "The triangle is obtuse-angled\n"
     ]
    }
   ],
   "source": [
    "# TRIANGLE GIVEN ANGLES\n",
    "\n",
    "def triangleTypeByAngles(a:tuple)->str:\n",
    "    if sum(a) != 180: raise(BaseException(\"The sum of the angles of a triangle must be 180\"))\n",
    "    \n",
    "    if 90 in a: return 'rectangular-angled'\n",
    "    elif list(filter(lambda t: t > 90,a)): return 'obtuse-angled'\n",
    "    else: return 'acute-angled'\n",
    "    \n",
    "angles = (60,100,20) \n",
    "print(\"The triangle is \" + triangleTypeByAngles(angles))"
   ]
  },
  {
   "cell_type": "code",
   "execution_count": 8,
   "metadata": {},
   "outputs": [
    {
     "name": "stdout",
     "output_type": "stream",
     "text": [
      "The triangle is rectangular-angled\n"
     ]
    }
   ],
   "source": [
    "# TRIANGLE GIVEN SIDES\n",
    "\n",
    "def triangleTypeBySides(s:tuple)->str:\n",
    "    l = list(s)\n",
    "    l.sort()\n",
    "    if l[0] + l[1] < l[2]: raise(BaseException(\"The figure is not a triangle (a+b < c)\"))\n",
    "    \n",
    "    if l[0]**2 + l[1]**2 < l[2]**2: return 'acute-angled'\n",
    "    elif l[0]**2 + l[1]**2 > l[2]**2: return 'obtuse-angled'\n",
    "    else: return 'rectangular-angled'\n",
    "\n",
    "sides = (5,4,3)\n",
    "print(\"The triangle is \" + triangleTypeBySides(sides))"
   ]
  },
  {
   "attachments": {},
   "cell_type": "markdown",
   "metadata": {},
   "source": [
    "## Exercise 1.3\n",
    "\n",
    "Write a program that, by using a while loop, returns the Fibonacci sequence up to the n-th term and stores it in a python list"
   ]
  },
  {
   "cell_type": "code",
   "execution_count": 9,
   "metadata": {},
   "outputs": [
    {
     "name": "stdout",
     "output_type": "stream",
     "text": [
      "[1, 1, 2, 3, 5, 8, 13, 21, 34, 55]\n"
     ]
    }
   ],
   "source": [
    "def fibonacciToN(N)->list:\n",
    "    f = [1,1]\n",
    "    for _ in range(0,N - 2):\n",
    "        f.append(f[-1] + f[-2])\n",
    "    return f\n",
    "\n",
    "N = 10\n",
    "print(fibonacciToN(N))"
   ]
  },
  {
   "attachments": {},
   "cell_type": "markdown",
   "metadata": {},
   "source": [
    "## Exercise 1.4\n",
    "\n",
    "Write a program that, by using a for loop, returns the Fibonacci sequence up to the n-th term and stores it in a python dictionary, where the key represents the index of each element and value its actual value"
   ]
  },
  {
   "cell_type": "code",
   "execution_count": 10,
   "metadata": {},
   "outputs": [
    {
     "name": "stdout",
     "output_type": "stream",
     "text": [
      "{1: 1, 2: 1, 3: 2, 4: 3, 5: 5, 6: 8, 7: 13, 8: 21, 9: 34, 10: 55}\n"
     ]
    }
   ],
   "source": [
    "def fibonacciToNdict(N) -> dict:\n",
    "    index = 2\n",
    "    f = {1:1,2:1}\n",
    "    for index in range(2,N):\n",
    "        f[index + 1] = f[index-1] + f[index]\n",
    "    return f\n",
    "\n",
    "N = 10\n",
    "print(fibonacciToNdict(N))"
   ]
  },
  {
   "attachments": {},
   "cell_type": "markdown",
   "metadata": {},
   "source": [
    "## Exercise 1.5\n",
    "\n",
    "Define a function that returns the Fibonacci sequence up to the n-th term. (Ex 1.3)\\\n",
    "Test the function with a main program, filling a list with the elements of the sequence.\\\n",
    "Create a new list containing only the elements with even index in the list.\\\n",
    "Create a new list containing only the elements with odd index in the list.\\\n",
    "Move the function in a library and import it in the main program."
   ]
  },
  {
   "cell_type": "code",
   "execution_count": 17,
   "metadata": {},
   "outputs": [
    {
     "name": "stdout",
     "output_type": "stream",
     "text": [
      "[1, 1, 2, 3, 5, 8, 13, 21, 34, 55]\n",
      "[1, 2, 5, 13, 34]\n",
      "[1, 3, 8, 21, 55]\n"
     ]
    }
   ],
   "source": [
    "### if __name__ == '__main__':\n",
    "\n",
    "f = fibonacciToN(10)\n",
    "f_even = f[::2]\n",
    "f_odd = f[1::2]\n",
    "print(f,f_even,f_odd,sep='\\n')"
   ]
  },
  {
   "attachments": {},
   "cell_type": "markdown",
   "metadata": {},
   "source": [
    "## Exercise 1.6\n",
    "\n",
    "By writing a suitable program and functions, verify whether the value of variables passed to a function get modified in the main program, if they are changed inside the function.\n",
    "\n",
    "Perform the check for the various types described during the lecture"
   ]
  },
  {
   "cell_type": "code",
   "execution_count": 12,
   "metadata": {},
   "outputs": [
    {
     "name": "stdout",
     "output_type": "stream",
     "text": [
      "1\n",
      "1.0\n",
      "(1+0j)\n",
      "True\n",
      "old string\n",
      "[1, 2, 3, 4]\n",
      "{1: 1, 2: 1, 3: 2, 4: 3, 5: 5, 6: 8, 7: 13, 8: 21, 9: 34, 10: 55, 0: 'new val', 'new key': 3.14}\n",
      "(1, 2, 3)\n"
     ]
    }
   ],
   "source": [
    "def test_function(i:int,f:float,c:complex,b:bool,s:str,l:list,d:dict,t:tuple):\n",
    "    i,f,c,b,s = 2,2.0,2+0j,False,\"new string\" # variables scoped inside f\n",
    "\n",
    "    d[0] = 'new val'\n",
    "    d['new key'] = 3.14\n",
    "    d = {\"new dict\":1,3.14:'PI'}\n",
    "\n",
    "    l.append(4)\n",
    "    l = [3,2,1]\n",
    "    l.append(0)\n",
    "    l[0] = 42\n",
    "\n",
    "    t = (3,2,1)\n",
    "\n",
    "\n",
    "# main\n",
    "im,fm,cm,bm,sm = 1,1.0,1+0j,True,\"old string\"\n",
    "lm = [1,2,3]\n",
    "dm = fibonacciToNdict(10)\n",
    "tm = (1,2,3)\n",
    "\n",
    "test_function(im,fm,cm,bm,sm,lm,dm,tm)\n",
    "\n",
    "print(im,fm,cm,bm,sm,lm,dm,tm,sep='\\n')"
   ]
  },
  {
   "attachments": {},
   "cell_type": "markdown",
   "metadata": {},
   "source": [
    "## Exercise 1.7\n",
    "\n",
    "Write a python program that determines the solution of second-order equations"
   ]
  },
  {
   "cell_type": "code",
   "execution_count": 13,
   "metadata": {},
   "outputs": [
    {
     "name": "stdout",
     "output_type": "stream",
     "text": [
      "x1 = (-1+0j)\n",
      "x2 = (1+0j)\n"
     ]
    }
   ],
   "source": [
    "from numpy import sqrt\n",
    "\n",
    "def second_order_equation(p:dict):\n",
    "    if list(p.keys()) != [\"x2\",\"x1\",\"x0\"]: raise(BaseException(\"Polynomial not valid\"))\n",
    "    [a,b,c] = [complex(i) for i in p.values()]\n",
    "    delta = b**2 - 4*a*c\n",
    "    x1 = (b - sqrt(delta))/ (2*a)\n",
    "    x2 = (b + sqrt(delta))/ (2*a)\n",
    "    return x1,x2\n",
    "\n",
    "polynomial = {'x2':1,'x1':0,\"x0\":-1}\n",
    "x1,x2 = second_order_equation(polynomial)\n",
    "\n",
    "print(f\"x1 = {x1}\",f\"x2 = {x2}\",sep='\\n')\n"
   ]
  },
  {
   "attachments": {},
   "cell_type": "markdown",
   "metadata": {},
   "source": [
    "## Exercise 1.8\n",
    "\n",
    "Write a python program that finds the list of prime integer numbers smaller than 100, starting by knowing that 2 is a prime number"
   ]
  },
  {
   "cell_type": "code",
   "execution_count": 14,
   "metadata": {},
   "outputs": [
    {
     "name": "stdout",
     "output_type": "stream",
     "text": [
      "[2, 3, 5, 7, 11, 13, 17, 19, 23, 29, 31, 37, 41, 43, 47, 53, 59, 61, 67, 71, 73, 79, 83, 89, 97]\n"
     ]
    }
   ],
   "source": [
    "def is_divisible_by(n:int,l:list)->bool:\n",
    "    for i in l:\n",
    "        if n%i == 0: return True\n",
    "    return False\n",
    "\n",
    "prime = [2]\n",
    "\n",
    "for i in range(3,101):\n",
    "    if not is_divisible_by(i,prime): prime.append(i)\n",
    "\n",
    "print(prime)"
   ]
  },
  {
   "attachments": {},
   "cell_type": "markdown",
   "metadata": {},
   "source": [
    "## Exercise 1.9\n",
    "\n",
    "Write a python program that finds the decomposition in prime factors of a positive integer number, implementing the algorithm in a function encapsulated in a python module\n",
    "\n",
    "Write a test function, in the library, that checks the correctness of the procedure for all numbers from 1 to 100"
   ]
  },
  {
   "cell_type": "code",
   "execution_count": 15,
   "metadata": {},
   "outputs": [
    {
     "name": "stdout",
     "output_type": "stream",
     "text": [
      "[2, 2, 2, 11, 23]\n"
     ]
    }
   ],
   "source": [
    "def factorize(n:int)->list:\n",
    "    i = 2\n",
    "    prime_factors = []\n",
    "    while(i <= n):\n",
    "        if n % i == 0:\n",
    "            prime_factors.append(i)\n",
    "            n = n/i\n",
    "        else: i += 1\n",
    "    return prime_factors\n",
    "\n",
    "n = 2024\n",
    "print(factorize(n))"
   ]
  },
  {
   "attachments": {},
   "cell_type": "markdown",
   "metadata": {},
   "source": [
    "# Common divisors"
   ]
  },
  {
   "cell_type": "code",
   "execution_count": 16,
   "metadata": {},
   "outputs": [
    {
     "ename": "TypeError",
     "evalue": "cannot unpack non-iterable int object",
     "output_type": "error",
     "traceback": [
      "\u001b[0;31m---------------------------------------------------------------------------\u001b[0m",
      "\u001b[0;31mTypeError\u001b[0m                                 Traceback (most recent call last)",
      "Cell \u001b[0;32mIn[16], line 34\u001b[0m\n\u001b[1;32m     31\u001b[0m     \u001b[38;5;28mprint\u001b[39m(b,exp)\n\u001b[1;32m     32\u001b[0m     \u001b[38;5;28mprint\u001b[39m(CDf)\n\u001b[0;32m---> 34\u001b[0m \u001b[43mmultiply\u001b[49m\u001b[43m(\u001b[49m\u001b[43mCDf\u001b[49m\u001b[43m)\u001b[49m\n",
      "Cell \u001b[0;32mIn[16], line 30\u001b[0m, in \u001b[0;36mmultiply\u001b[0;34m(CDf)\u001b[0m\n\u001b[1;32m     28\u001b[0m d \u001b[38;5;241m=\u001b[39m []\n\u001b[1;32m     29\u001b[0m k \u001b[38;5;241m=\u001b[39m \u001b[38;5;28mlist\u001b[39m(CDf\u001b[38;5;241m.\u001b[39mkeys())[\u001b[38;5;241m0\u001b[39m]\n\u001b[0;32m---> 30\u001b[0m b,exp \u001b[38;5;241m=\u001b[39m CDf\u001b[38;5;241m.\u001b[39mpop(k)\n\u001b[1;32m     31\u001b[0m \u001b[38;5;28mprint\u001b[39m(b,exp)\n\u001b[1;32m     32\u001b[0m \u001b[38;5;28mprint\u001b[39m(CDf)\n",
      "\u001b[0;31mTypeError\u001b[0m: cannot unpack non-iterable int object"
     ]
    }
   ],
   "source": [
    "def factorize(n:int)->dict: # {val:exponent}\n",
    "    i = 2\n",
    "    prime_factors = {}\n",
    "    while(i <= n):\n",
    "        if n % i == 0:\n",
    "            try: prime_factors[i] += 1\n",
    "            except KeyError: prime_factors[i] = 1\n",
    "            finally: n = n/i\n",
    "        else: i += 1\n",
    "    return prime_factors\n",
    "\n",
    "def computeGCD(x, y):\n",
    "    if x > y: small = y\n",
    "    else: small = x\n",
    "    for i in range(1, small + 1):\n",
    "        if((x % i == 0) and (y % i == 0)): gcd = i\n",
    "    return gcd\n",
    "\n",
    "n1 = 30\n",
    "n2 = 12\n",
    "\n",
    "GCD = computeGCD(n1,n2)\n",
    "CDf = factorize(GCD)\n",
    "\n",
    "divisors = []\n",
    "\n",
    "def multiply(CDf):\n",
    "    d = []\n",
    "    k = list(CDf.keys())[0]\n",
    "    b,exp = CDf.pop(k)\n",
    "    print(b,exp)\n",
    "    print(CDf)\n",
    "\n",
    "multiply(CDf)"
   ]
  }
 ],
 "metadata": {
  "kernelspec": {
   "display_name": "Python 3",
   "language": "python",
   "name": "python3"
  },
  "language_info": {
   "codemirror_mode": {
    "name": "ipython",
    "version": 3
   },
   "file_extension": ".py",
   "mimetype": "text/x-python",
   "name": "python",
   "nbconvert_exporter": "python",
   "pygments_lexer": "ipython3",
   "version": "3.10.12"
  },
  "orig_nbformat": 4
 },
 "nbformat": 4,
 "nbformat_minor": 2
}
