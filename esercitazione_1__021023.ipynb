{
 "cells": [
  {
   "attachments": {},
   "cell_type": "markdown",
   "metadata": {},
   "source": [
    "# Exercises for Lecture 1 02-10-2023"
   ]
  },
  {
   "attachments": {},
   "cell_type": "markdown",
   "metadata": {},
   "source": [
    "## Exercise 1.1\n",
    "\n",
    "Write a program that reads an integer given as input from the user and determines whether it is divisible by 2, 3, 5, or 7."
   ]
  },
  {
   "cell_type": "code",
   "execution_count": 16,
   "metadata": {},
   "outputs": [
    {
     "name": "stdout",
     "output_type": "stream",
     "text": [
      "The divisors of 42 are 2,3,7\n"
     ]
    }
   ],
   "source": [
    "def divisibleBy2357(x: int) -> int:\n",
    "    d = (2,3,5,7)\n",
    "    divisors = []\n",
    "    for i in d: \n",
    "        if x % i == 0: divisors.append(i)\n",
    "    return divisors\n",
    "\n",
    "x = 42 # int(input(\"Insert an integer: \"))\n",
    "print(f\"The divisors of {x} are {','.join(str(i) for i in divisibleBy2357(x))}\")"
   ]
  },
  {
   "attachments": {},
   "cell_type": "markdown",
   "metadata": {},
   "source": [
    "Encapsulate the check into a function taking as input two numbers, and write a program that asks the user to insert two numbers and checks whether the first is divisible by the other one (and vice-versa)"
   ]
  },
  {
   "cell_type": "code",
   "execution_count": 9,
   "metadata": {},
   "outputs": [
    {
     "name": "stdout",
     "output_type": "stream",
     "text": [
      "29 is not divisible by 11\n"
     ]
    }
   ],
   "source": [
    "def divisible(n:int,d:int)->bool:\n",
    "    return n % d == 0\n",
    "\n",
    "numerator = 29 # int(input(\"Insert the numerator: \"))\n",
    "denominator = 11 # int(input(\"Insert the denominator: \"))\n",
    "\n",
    "answer = \"\" if divisible(numerator, denominator) else \"not \"\n",
    "\n",
    "print(f\"{numerator} is {answer}divisible by {denominator}\")"
   ]
  },
  {
   "attachments": {},
   "cell_type": "markdown",
   "metadata": {},
   "source": [
    "##  Exercise 1.2\n",
    "\n",
    "Write a program that, given the three sides of a triangle, determines whether the triangle is acute-angled, rectangular-angled or obtuse-angled."
   ]
  },
  {
   "cell_type": "code",
   "execution_count": 17,
   "metadata": {},
   "outputs": [
    {
     "name": "stdout",
     "output_type": "stream",
     "text": [
      "The triangle is obtuse-angled\n"
     ]
    }
   ],
   "source": [
    "def triangleAngles(a)->str:\n",
    "    if sum(a) != 180: raise(BaseException(\"The sum of the angles of a triangle must be 180\"))\n",
    "    if 90 in a: return 'rectangular-angled'\n",
    "    if list(filter(lambda t: t > 90,a)): return 'obtuse-angled'\n",
    "    else: return 'acute-angled'\n",
    "    \n",
    "angles = (60,100,20) \n",
    "print(\"The triangle is \" + triangleAngles(angles))"
   ]
  },
  {
   "attachments": {},
   "cell_type": "markdown",
   "metadata": {},
   "source": [
    "## Exercise 1.3\n",
    "\n",
    "Write a program that, by using a while loop, returns the Fibonacci sequence up to the n-th term and stores it in a python list"
   ]
  },
  {
   "cell_type": "code",
   "execution_count": 20,
   "metadata": {},
   "outputs": [
    {
     "name": "stdout",
     "output_type": "stream",
     "text": [
      "[1, 1, 2, 3, 5, 8, 13, 21, 34, 55, 89, 144]\n"
     ]
    }
   ],
   "source": [
    "def fibonacciToN(N)->list:\n",
    "    f = [1,1]\n",
    "    while(f[-1]<N):\n",
    "        f.append(f[-1] + f[-2])\n",
    "    return f\n",
    "\n",
    "N = 100\n",
    "print(fibonacciToN(N))"
   ]
  },
  {
   "attachments": {},
   "cell_type": "markdown",
   "metadata": {},
   "source": [
    "## Exercise 1.4\n",
    "\n",
    "Write a program that, by using a for loop, returns the Fibonacci sequence up to the n-th term and stores it in a python dictionary, where the key represents the index of each element and value its actual value"
   ]
  }
 ],
 "metadata": {
  "kernelspec": {
   "display_name": "Python 3",
   "language": "python",
   "name": "python3"
  },
  "language_info": {
   "codemirror_mode": {
    "name": "ipython",
    "version": 3
   },
   "file_extension": ".py",
   "mimetype": "text/x-python",
   "name": "python",
   "nbconvert_exporter": "python",
   "pygments_lexer": "ipython3",
   "version": "3.8.10"
  },
  "orig_nbformat": 4
 },
 "nbformat": 4,
 "nbformat_minor": 2
}
