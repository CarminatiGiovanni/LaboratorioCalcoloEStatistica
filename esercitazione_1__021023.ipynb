{
 "cells": [
  {
   "attachments": {},
   "cell_type": "markdown",
   "metadata": {},
   "source": [
    "# Exercises for Lecture 1 02-10-2023"
   ]
  },
  {
   "attachments": {},
   "cell_type": "markdown",
   "metadata": {},
   "source": [
    "## Exercise 1.1\n",
    "\n",
    "Write a program that reads an integer given as input from the user and determines whether it is divisible by 2, 3, 5, or 7."
   ]
  },
  {
   "cell_type": "code",
   "execution_count": 40,
   "metadata": {},
   "outputs": [
    {
     "name": "stdout",
     "output_type": "stream",
     "text": [
      "The divisors of 42 are 2,3,7\n"
     ]
    }
   ],
   "source": [
    "def divisibleBy2357(x: int) -> int:\n",
    "    d = (2,3,5,7)\n",
    "    divisors = []\n",
    "    for i in d: \n",
    "        if x % i == 0: divisors.append(i)\n",
    "    return divisors\n",
    "\n",
    "x = 42 # int(input(\"Insert an integer: \"))\n",
    "print(f\"The divisors of {x} are {','.join(str(i) for i in divisibleBy2357(x))}\")"
   ]
  },
  {
   "attachments": {},
   "cell_type": "markdown",
   "metadata": {},
   "source": [
    "Encapsulate the check into a function taking as input two numbers, and write a program that asks the user to insert two numbers and checks whether the first is divisible by the other one (and vice-versa)"
   ]
  },
  {
   "cell_type": "code",
   "execution_count": 41,
   "metadata": {},
   "outputs": [
    {
     "name": "stdout",
     "output_type": "stream",
     "text": [
      "29 is not divisible by 11\n"
     ]
    }
   ],
   "source": [
    "def divisible(n:int,d:int)->bool:\n",
    "    return n % d == 0\n",
    "\n",
    "numerator = 29 # int(input(\"Insert the numerator: \"))\n",
    "denominator = 11 # int(input(\"Insert the denominator: \"))\n",
    "\n",
    "answer = \"\" if divisible(numerator, denominator) else \"not \"\n",
    "\n",
    "print(f\"{numerator} is {answer}divisible by {denominator}\")"
   ]
  },
  {
   "attachments": {},
   "cell_type": "markdown",
   "metadata": {},
   "source": [
    "##  Exercise 1.2\n",
    "\n",
    "Write a program that, given the three sides of a triangle, determines whether the triangle is acute-angled, rectangular-angled or obtuse-angled."
   ]
  },
  {
   "cell_type": "code",
   "execution_count": 42,
   "metadata": {},
   "outputs": [
    {
     "name": "stdout",
     "output_type": "stream",
     "text": [
      "The triangle is obtuse-angled\n"
     ]
    }
   ],
   "source": [
    "def triangleAngles(a)->str:\n",
    "    if sum(a) != 180: raise(BaseException(\"The sum of the angles of a triangle must be 180\"))\n",
    "    if 90 in a: return 'rectangular-angled'\n",
    "    if list(filter(lambda t: t > 90,a)): return 'obtuse-angled'\n",
    "    else: return 'acute-angled'\n",
    "    \n",
    "angles = (60,100,20) \n",
    "print(\"The triangle is \" + triangleAngles(angles))"
   ]
  },
  {
   "attachments": {},
   "cell_type": "markdown",
   "metadata": {},
   "source": [
    "## Exercise 1.3\n",
    "\n",
    "Write a program that, by using a while loop, returns the Fibonacci sequence up to the n-th term and stores it in a python list"
   ]
  },
  {
   "cell_type": "code",
   "execution_count": 43,
   "metadata": {},
   "outputs": [
    {
     "name": "stdout",
     "output_type": "stream",
     "text": [
      "[1, 1, 2, 3, 5, 8, 13, 21, 34, 55, 89]\n"
     ]
    }
   ],
   "source": [
    "def fibonacciToN(N)->list:\n",
    "    f = [1,1]\n",
    "    while(f[-1] + f[-2]<N):\n",
    "        f.append(f[-1] + f[-2])\n",
    "    return f\n",
    "\n",
    "N = 100\n",
    "print(fibonacciToN(N))"
   ]
  },
  {
   "attachments": {},
   "cell_type": "markdown",
   "metadata": {},
   "source": [
    "## Exercise 1.4\n",
    "\n",
    "Write a program that, by using a for loop, returns the Fibonacci sequence up to the n-th term and stores it in a python dictionary, where the key represents the index of each element and value its actual value"
   ]
  },
  {
   "cell_type": "code",
   "execution_count": 44,
   "metadata": {},
   "outputs": [
    {
     "name": "stdout",
     "output_type": "stream",
     "text": [
      "{1: 1, 2: 1, 3: 2, 4: 3, 5: 5, 6: 8, 7: 13, 8: 21, 9: 34, 10: 55, 11: 89}\n"
     ]
    }
   ],
   "source": [
    "def fibonacciToNdict(N)->dict:\n",
    "    index = 2\n",
    "    f = {1:1,2:1}\n",
    "    while(f[index-1] + f[index]<N):\n",
    "        f[index + 1] = f[index-1] + f[index]\n",
    "        index += 1\n",
    "    return f\n",
    "\n",
    "N = 100\n",
    "print(fibonacciToNdict(N))"
   ]
  },
  {
   "attachments": {},
   "cell_type": "markdown",
   "metadata": {},
   "source": [
    "## Exercise 1.5\n",
    "\n",
    "Define a function that returns the Fibonacci sequence up to the n-th term. (Ex 1.3)\\\n",
    "Test the function with a main program, filling a list with the elements of the sequence.\\\n",
    "Create a new list containing only the elements with even index in the list.\\\n",
    "Create a new list containing only the elements with odd index in the list.\\\n",
    "Move the function in a library and import it in the main program."
   ]
  },
  {
   "cell_type": "code",
   "execution_count": 45,
   "metadata": {},
   "outputs": [
    {
     "name": "stdout",
     "output_type": "stream",
     "text": [
      "[1, 1, 2, 3, 5, 8, 13, 21, 34, 55, 89, 144]\n",
      "[1, 2, 5, 13, 34, 89]\n",
      "[1, 3, 8, 21, 55, 144]\n"
     ]
    }
   ],
   "source": [
    "### if __name__ == '__main__':\n",
    "\n",
    "f = fibonacciToN(200)\n",
    "f_even = f[::2]\n",
    "f_odd = f[1::2]\n",
    "print(f,f_even,f_odd,sep='\\n')"
   ]
  },
  {
   "attachments": {},
   "cell_type": "markdown",
   "metadata": {},
   "source": [
    "## Exercise 1.6\n",
    "\n",
    "By writing a suitable program and functions, verify whether the value of variables passed to a function get modified in the main program, if they are changed inside the function.\n",
    "\n",
    "Perform the check for the various types described during the lecture"
   ]
  },
  {
   "cell_type": "code",
   "execution_count": 46,
   "metadata": {},
   "outputs": [
    {
     "name": "stdout",
     "output_type": "stream",
     "text": [
      "1\n",
      "1.0\n",
      "(1+0j)\n",
      "True\n",
      "old string\n",
      "[1, 2, 3, 4]\n",
      "{1: 1, 2: 1, 3: 2, 4: 3, 5: 5, 6: 8, 0: 'new val', 'new key': 3.14}\n",
      "(1, 2, 3)\n"
     ]
    }
   ],
   "source": [
    "def test_function(i:int,f:float,c:complex,b:bool,s:str,l:list,d:dict,t:tuple):\n",
    "    i,f,c,b,s = 2,2.0,2+0j,False,\"new string\" # variables scoped inside f\n",
    "\n",
    "    d[0] = 'new val'\n",
    "    d['new key'] = 3.14\n",
    "    d = {\"new dict\":1,3.14:'PI'}\n",
    "\n",
    "    l.append(4)\n",
    "    l = [3,2,1]\n",
    "    l.append(0)\n",
    "    l[0] = 42\n",
    "\n",
    "    t = (3,2,1)\n",
    "\n",
    "\n",
    "# main\n",
    "im,fm,cm,bm,sm = 1,1.0,1+0j,True,\"old string\"\n",
    "lm = [1,2,3]\n",
    "dm = fibonacciToNdict(10)\n",
    "tm = (1,2,3)\n",
    "\n",
    "test_function(im,fm,cm,bm,sm,lm,dm,tm)\n",
    "\n",
    "print(im,fm,cm,bm,sm,lm,dm,tm,sep='\\n')"
   ]
  }
 ],
 "metadata": {
  "kernelspec": {
   "display_name": "Python 3",
   "language": "python",
   "name": "python3"
  },
  "language_info": {
   "codemirror_mode": {
    "name": "ipython",
    "version": 3
   },
   "file_extension": ".py",
   "mimetype": "text/x-python",
   "name": "python",
   "nbconvert_exporter": "python",
   "pygments_lexer": "ipython3",
   "version": "3.8.10"
  },
  "orig_nbformat": 4
 },
 "nbformat": 4,
 "nbformat_minor": 2
}
