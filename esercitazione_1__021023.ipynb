{
 "cells": [
  {
   "attachments": {},
   "cell_type": "markdown",
   "metadata": {},
   "source": [
    "# ESERCITAZIONE 02-10-2023"
   ]
  },
  {
   "attachments": {},
   "cell_type": "markdown",
   "metadata": {},
   "source": [
    "## ESERCIZIO 1.1\n",
    "\n",
    "Write a program that reads an integer given as input from the user and determines whether it is divisible by 2, 3, 5, or 7."
   ]
  },
  {
   "cell_type": "code",
   "execution_count": 8,
   "metadata": {},
   "outputs": [
    {
     "name": "stdout",
     "output_type": "stream",
     "text": [
      "[2, 3, 7]\n"
     ]
    }
   ],
   "source": [
    "def divisibleBy2357(x: int) -> int:\n",
    "    d = (2,3,5,7)\n",
    "    divisors = []\n",
    "    for i in d: \n",
    "        if x % i == 0: divisors.append(i)\n",
    "    return divisors\n",
    "\n",
    "x = 42 # int(input(\"Insert an integer: \"))\n",
    "print(divisibleBy2357(x))"
   ]
  },
  {
   "attachments": {},
   "cell_type": "markdown",
   "metadata": {},
   "source": [
    "Encapsulate the check into a function taking as input two numbers, and write a program that asks the user to insert two numbers and checks whether the first is divisible by the other one (and vice-versa)"
   ]
  },
  {
   "cell_type": "code",
   "execution_count": 9,
   "metadata": {},
   "outputs": [
    {
     "name": "stdout",
     "output_type": "stream",
     "text": [
      "29 is not divisible by 11\n"
     ]
    }
   ],
   "source": [
    "def divisible(n:int,d:int)->bool:\n",
    "    return n % d == 0\n",
    "\n",
    "numerator = 29 # int(input(\"Insert the numerator: \"))\n",
    "denominator = 11 # int(input(\"Insert the denominator: \"))\n",
    "\n",
    "answer = \"\" if divisible(numerator, denominator) else \"not \"\n",
    "\n",
    "print(f\"{numerator} is {answer}divisible by {denominator}\")"
   ]
  }
 ],
 "metadata": {
  "kernelspec": {
   "display_name": "Python 3",
   "language": "python",
   "name": "python3"
  },
  "language_info": {
   "codemirror_mode": {
    "name": "ipython",
    "version": 3
   },
   "file_extension": ".py",
   "mimetype": "text/x-python",
   "name": "python",
   "nbconvert_exporter": "python",
   "pygments_lexer": "ipython3",
   "version": "3.8.10"
  },
  "orig_nbformat": 4
 },
 "nbformat": 4,
 "nbformat_minor": 2
}
