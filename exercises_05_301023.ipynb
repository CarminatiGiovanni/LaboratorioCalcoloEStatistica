{
 "cells": [
  {
   "cell_type": "markdown",
   "metadata": {},
   "source": [
    "# EXERCISES 5 - 30/10/2023"
   ]
  },
  {
   "cell_type": "code",
   "execution_count": 1,
   "metadata": {},
   "outputs": [],
   "source": [
    "from math import gcd as GCD\n",
    "import numpy as np\n",
    "from matplotlib import pyplot as plt\n",
    "from mylib.matstyle import hist_style"
   ]
  },
  {
   "cell_type": "markdown",
   "metadata": {},
   "source": [
    "## Exercise 5.1\n",
    "Create a python library that implements the Fraction class, containing its constructor, the data members to save numerator and denominator, and the class method that returns the division between the numerator and the denominator"
   ]
  },
  {
   "cell_type": "code",
   "execution_count": 2,
   "metadata": {},
   "outputs": [],
   "source": [
    "class Fraction:\n",
    "    def __init__(self,num: int,den: int):\n",
    "        self.num: int = num\n",
    "        self.den: int = den\n",
    "        self.simplify()\n",
    "\n",
    "    def division(self) -> float:\n",
    "        return float(self.num)/self.den\n",
    "    \n",
    "    def simplify(self):\n",
    "        gcd = GCD(self.num,self.den)\n",
    "        self.num /= gcd\n",
    "        self.den /= gcd\n",
    "    \n",
    "    def __str__(self):\n",
    "        return f\"{int(self.num)}/{int(self.den)}\""
   ]
  },
  {
   "cell_type": "markdown",
   "metadata": {},
   "source": [
    "## Exercise 5.2\n",
    "\n",
    "Implement a test function of the class inside the library file itself, that verifies the output of each method of the class, and that prints on screen the value of the numerator and of the denominator of a fraction"
   ]
  },
  {
   "cell_type": "code",
   "execution_count": 3,
   "metadata": {},
   "outputs": [
    {
     "name": "stdout",
     "output_type": "stream",
     "text": [
      "2.5\n",
      "2.0\n",
      "5/2\n",
      "2/1\n"
     ]
    }
   ],
   "source": [
    "f1 = Fraction(5,2)\n",
    "f2 = Fraction(4,2)\n",
    "\n",
    "print(f1.division())\n",
    "print(f2.division())\n",
    "\n",
    "print(f1)\n",
    "print(f2)"
   ]
  },
  {
   "cell_type": "markdown",
   "metadata": {},
   "source": [
    "## Exercise 5.3\n",
    "Add to the Fraction class the overloading of the +, -, *, / operations in such a way that each of them returns an object of the type Fraction.\n",
    "\n",
    "Add to the test function the call to all the new methods and the verification of their behaviour."
   ]
  },
  {
   "cell_type": "code",
   "execution_count": 4,
   "metadata": {},
   "outputs": [],
   "source": [
    "class Fraction:\n",
    "    def __init__(self,num: int,den: int):\n",
    "        self.num: int = int(num)\n",
    "        self.den: int = int(den)\n",
    "        self.simplify()\n",
    "\n",
    "    def division(self) -> float:\n",
    "        return float(self.num)/self.den\n",
    "    \n",
    "    def __add__(self,b:Fraction) -> Fraction:\n",
    "        gcd: int = GCD(self.den,b.den)\n",
    "        lcm: int = int(self.den/gcd * b.den)\n",
    "        num = self.num*(lcm/self.den) + b.num*(lcm/b.den)\n",
    "        return Fraction(num,lcm)\n",
    "    \n",
    "    def __sub__(self,b: Fraction):\n",
    "        gcd: int = GCD(self.den,b.den)\n",
    "        lcm: int = self.den/gcd * b.den\n",
    "        num = self.num*(lcm/self.den) - b.num*(lcm/b.den)\n",
    "        return Fraction(num,lcm)\n",
    "    \n",
    "    def __mul__(self,b: Fraction):\n",
    "        num = self.num\n",
    "        den = self.den\n",
    "        gcd = GCD(num,b.den)\n",
    "        num /= gcd\n",
    "        bden = b.den/gcd\n",
    "        gcd = GCD(den,b.num)\n",
    "        den /= gcd\n",
    "        bnum = b.num/gcd\n",
    "        return Fraction(num*bnum,den*bden)\n",
    "    \n",
    "    def __truediv__(self,b: Fraction):\n",
    "        return self.__mul__(Fraction(b.den,b.num))\n",
    "\n",
    "    def __str__(self):\n",
    "        return f\"{int(self.num)}/{int(self.den)}\"\n",
    "    \n",
    "    def simplify(self):\n",
    "        gcd = GCD(self.num,self.den)\n",
    "        self.num = int(self.num/gcd)\n",
    "        self.den = int(self.den/gcd)"
   ]
  },
  {
   "cell_type": "code",
   "execution_count": 5,
   "metadata": {},
   "outputs": [
    {
     "name": "stdout",
     "output_type": "stream",
     "text": [
      "5/3\n",
      "4/15\n",
      "29/15\n",
      "7/5\n",
      "4/9\n",
      "25/4\n"
     ]
    }
   ],
   "source": [
    "f1 = Fraction(5,3)\n",
    "f2 = Fraction(4,15)\n",
    "\n",
    "print(f1)\n",
    "print(f2)\n",
    "print(f1+f2)\n",
    "print(f1-f2)\n",
    "print(f1*f2)\n",
    "print(f1/f2)"
   ]
  },
  {
   "cell_type": "markdown",
   "metadata": {},
   "source": [
    "## Exercise 5.4\n",
    "Write a python program that reads the sample file eventi_unif.txt of Exercise 3.2 and, using the filter function, creates two different sub-sets of events containing those larger or smaller than the average respectively, using lambda functions in the process.\n",
    "\n",
    "Show that the sigma of the two subsets is half the one of the parent sample."
   ]
  },
  {
   "cell_type": "code",
   "execution_count": 6,
   "metadata": {},
   "outputs": [
    {
     "name": "stdout",
     "output_type": "stream",
     "text": [
      "[ 1.74343   0.881333 -1.4281    2.94428  -1.40717 ]\n",
      "Average:  1.5082904156312\n",
      "[ 0.881333 -1.4281   -1.40717  -3.22005   0.547841]\n",
      "[1.74343 2.94428 2.73867 3.56551 3.55342]\n",
      "sigma data:  3.1776809689426666\n",
      "sigma smaller:  1.5834337370648714\n",
      "sigma larger:   1.5748388014000654\n"
     ]
    }
   ],
   "source": [
    "data = np.loadtxt('data/eventi_unif.txt', dtype=np.float64)\n",
    "\n",
    "m = np.average(data)\n",
    "std = np.std(data)\n",
    "\n",
    "# smaller = np.array(list(filter(lambda x: x < m, data)))\n",
    "# larger  = np.array(list(filter(lambda x: x > m, data)))\n",
    "\n",
    "# numpy style\n",
    "smaller = data[(data<m)]\n",
    "larger = data[(data>m)]\n",
    "\n",
    "sstd = np.std(smaller)\n",
    "lstd = np.std(larger)\n",
    "\n",
    "print(data[:5])\n",
    "print('Average: ',m)\n",
    "print(smaller[:5])\n",
    "print(larger[:5])\n",
    "print('sigma data: ',std)\n",
    "print('sigma smaller: ',sstd)\n",
    "print('sigma larger:  ',lstd)"
   ]
  },
  {
   "cell_type": "markdown",
   "metadata": {},
   "source": [
    "## Exercise 5.5\n",
    "Write a python program that reads the sample file eventi_gauss.txt of Exercise 3.3 and, using the map function, creates the distribution of the squares and cubes of random Gaussian numbers, respectively, using lambda functions in the process.\n",
    "\n",
    "Plot the distribution of them, together with the original sample one, all in the same frame."
   ]
  },
  {
   "cell_type": "code",
   "execution_count": 7,
   "metadata": {},
   "outputs": [
    {
     "data": {
      "image/png": "[encoded data removed]",
      "text/plain": [
       "<Figure size 640x480 with 3 Axes>"
      ]
     },
     "metadata": {},
     "output_type": "display_data"
    }
   ],
   "source": [
    "dg = np.loadtxt('data/eventi_gauss.txt',dtype=np.float64)\n",
    "\n",
    "dg2 = np.array(list(map(lambda x: x**2, dg)))\n",
    "dg3 = np.array(list(map(lambda x: x**3, dg)))\n",
    "\n",
    "# numpy style\n",
    "# dg2 = dg**2\n",
    "# dg3 = dg**3\n",
    "\n",
    "ax, fig = fig, ax = plt.subplots (nrows = 1, ncols = 3)\n",
    "ax[0].hist(dg,**hist_style(len(data),color='tan'))\n",
    "ax[1].hist(dg2,**hist_style(len(data),color='palegreen'))\n",
    "ax[2].hist(dg3,**hist_style(len(data),color='tomato'))\n",
    "\n",
    "fig.tight_layout()\n",
    "plt.show()"
   ]
  }
 ],
 "metadata": {
  "kernelspec": {
   "display_name": "Python 3",
   "language": "python",
   "name": "python3"
  },
  "language_info": {
   "codemirror_mode": {
    "name": "ipython",
    "version": 3
   },
   "file_extension": ".py",
   "mimetype": "text/x-python",
   "name": "python",
   "nbconvert_exporter": "python",
   "pygments_lexer": "ipython3",
   "version": "3.10.12"
  }
 },
 "nbformat": 4,
 "nbformat_minor": 2
}
